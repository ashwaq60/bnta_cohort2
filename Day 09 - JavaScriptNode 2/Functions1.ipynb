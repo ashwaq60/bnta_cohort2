{
 "cells": [
  {
   "cell_type": "markdown",
   "metadata": {},
   "source": [
    "# Functions Part I\n",
    "\n",
    "* Can be defined with the ```function``` keyword (named or anonymous)\n",
    "* Can be defined using arrow function syntax (ES2015)\n",
    "* Set of statements that perform a task and/or returns a result\n",
    "* If no return statement is executed then function returns ```undefined``` by default\n",
    "* May be named using any valid identifier but usually camel-case naming convention is used\n",
    "* A function is an object that can assign to a variable, passed as an argument, or returned from a function call\n",
    "* To call a function it must be defined in the scope from which it is called\n",
    "* Can be declared to receive any number of parameters\n",
    "* Can be called with any number of arguments\n",
    "    - Receives array-like variable named ```arguments``` containing all arguments actually passed in\n",
    "* Parameters can be defined with default values (ES2015)\n",
    "* Variable scope and hoisting can be controlled with ```val```, ```let```, ```const```, and ```'use strict';```\n",
    "\n",
    "### Terminology: parameters vs. arguments\n",
    "* **Parameters**: received in the function definition (a.k.a. formal parameters or formal arguments)\n",
    "* **Arguments**: passed into the function call (a.k.a. actual parameters or actual arguments)"
   ]
  },
  {
   "cell_type": "code",
   "execution_count": 18,
   "metadata": {},
   "outputs": [
    {
     "name": "stdout",
     "output_type": "stream",
     "text": [
      "Hello\n",
      "42\n",
      "9\n"
     ]
    }
   ],
   "source": [
    "{ // functions can optionally receive parameters and they can optionally return a value\n",
    "function functionWithParameter(x) {\n",
    "    console.log(x);\n",
    "}\n",
    "function functionWithReturn(x) {\n",
    "    return 42;\n",
    "}\n",
    "function functionWithParameterAndReturn(x) {\n",
    "    return x*x;\n",
    "}\n",
    "    \n",
    "functionWithParameter(\"Hello\");             // displays Hello\n",
    "    \n",
    "let result = functionWithReturn();          // returns 42\n",
    "console.log(result);\n",
    "    \n",
    "result = functionWithParameterAndReturn(3); // returns 3*3 -> 9\n",
    "console.log(result);\n",
    "}"
   ]
  },
  {
   "cell_type": "code",
   "execution_count": 29,
   "metadata": {},
   "outputs": [
    {
     "name": "stdout",
     "output_type": "stream",
     "text": [
      "42\n",
      "undefined\n"
     ]
    }
   ],
   "source": [
    "{ // If no return statement is executed then function returns undefined by default\n",
    "\n",
    "function f1 () { return 42; } // explicit return evaluates the expressions and returns result to caller\n",
    "console.log(f1());                 // 42\n",
    "\n",
    "function f2 () {}             // implicit return returns undefined to caller\n",
    "console.log(f2());                 // undefined\n",
    "}"
   ]
  },
  {
   "cell_type": "code",
   "execution_count": 1,
   "metadata": {},
   "outputs": [
    {
     "name": "stdout",
     "output_type": "stream",
     "text": [
      "[Arguments] { '0': 1, '1': 2, '2': 3 }\n",
      "[Arguments] {}\n",
      "Ooops! Missing parameter!!!\n"
     ]
    }
   ],
   "source": [
    "function myfunc(x) {\n",
    "    console.log(arguments);\n",
    "    if (!x) { // this means that missing parameters is not cool\n",
    "        throw new Error('Ooops! Missing parameter!!!');\n",
    "    }\n",
    "}\n",
    "try {\n",
    "myfunc(1, 2, 3);\n",
    "myfunc();        // \n",
    "}\n",
    "catch (err) {\n",
    "    console.log(err.message);\n",
    "}"
   ]
  },
  {
   "cell_type": "markdown",
   "metadata": {},
   "source": [
    "## Functions Can Combine in Several Ways\n",
    "\n",
    "* Function calls can be chained (function calls another function with context pushed on callstack)\n",
    "* Function can be passed in as argument to another function (functional composition)\n",
    "* Function can return a function (known as closure, used for creating objects using functions)\n",
    "* Function can call itself (known as recursion)"
   ]
  },
  {
   "cell_type": "code",
   "execution_count": 11,
   "metadata": {},
   "outputs": [
    {
     "name": "stdout",
     "output_type": "stream",
     "text": [
      "8\n"
     ]
    }
   ],
   "source": [
    "{ // Function calls can be chained (function calls another function with context pushed on callstack)\n",
    "function f(x) {\n",
    "    const temp = x + 1;\n",
    "    return g(temp);\n",
    "}\n",
    "function g(x) {\n",
    "    return x * 2;\n",
    "}\n",
    "let result = f(3);   // call function f which calls function g\n",
    "console.log(result); // 8\n",
    "}"
   ]
  },
  {
   "cell_type": "code",
   "execution_count": 12,
   "metadata": {},
   "outputs": [
    {
     "name": "stdout",
     "output_type": "stream",
     "text": [
      "8\n"
     ]
    }
   ],
   "source": [
    "{ // Function can be passed in as argument to another function (functional composition)\n",
    "function g(x) {\n",
    "    return x + 1;\n",
    "}\n",
    "function f(x) {\n",
    "    return x * 2;\n",
    "}\n",
    "let result = f(g(3)); // f ∘ g\n",
    "console.log(result);  // 8\n",
    "}"
   ]
  },
  {
   "cell_type": "markdown",
   "metadata": {},
   "source": [
    "## Many Ways to Implement a Function"
   ]
  },
  {
   "cell_type": "code",
   "execution_count": 36,
   "metadata": {},
   "outputs": [
    {
     "name": "stdout",
     "output_type": "stream",
     "text": [
      "true\n",
      "25\n",
      "true\n",
      "7\n",
      "true\n",
      "12\n",
      "true\n",
      "true\n",
      "6\n",
      "8\n",
      "true\n",
      "8\n",
      "7\n",
      "12\n",
      "0.75\n",
      "true\n",
      "true\n",
      "42\n",
      "true\n",
      "13\n",
      "12\n",
      "12\n"
     ]
    }
   ],
   "source": [
    "{ // many ways to implement a function\n",
    "    // named function\n",
    "    function square(a) {                         \n",
    "      return a*a;\n",
    "    }\n",
    "    console.log(square instanceof Function);     // true\n",
    "    console.log(square(5));                      // 25\n",
    "\n",
    "    // anonymous function assigned to variable\n",
    "    let add = function (a, b) {\n",
    "        return a+b;\n",
    "    }\n",
    "    console.log(add instanceof Function);        // true\n",
    "    console.log(add(3, 4));                      // 7\n",
    "\n",
    "    // anonymous arrow function \n",
    "    let multiply = (a, b) => a*b;\n",
    "    console.log(multiply instanceof Function);   // true\n",
    "    console.log(multiply(3, 4));                 // 12\n",
    "    \n",
    "    // object member functions\n",
    "    const obj = { addAsMethod: add, multiplyAsMethod: multiply };\n",
    "    console.log(obj.addAsMethod instanceof Function);      // true\n",
    "    console.log(obj.multiplyAsMethod instanceof Function); // true\n",
    "    console.log(obj.addAsMethod(2, 4));                    // 6\n",
    "    console.log(obj.multiplyAsMethod(2, 4));               // 8\n",
    "    \n",
    "    // return function object\n",
    "    function getFunction() {\n",
    "        return function (a,b) { return a**b;}\n",
    "    }\n",
    "    func = getFunction();\n",
    "    console.log(func instanceof Function);          // true\n",
    "    console.log(func(2, 3));                        // 8\n",
    "    \n",
    "    // callback function passed as parameter\n",
    "    function callCallback(callback, a, b) {\n",
    "        return callback(a, b);\n",
    "    }\n",
    "    console.log(callCallback(add, 3, 4));           // 7\n",
    "    console.log(callCallback(multiply, 3, 4));      // 12\n",
    "    console.log(callCallback((x,y)=>x/y, 3, 4));    // 0.75\n",
    "    \n",
    "    // constructor function for instantiating objects\n",
    "    function ClassFunction (x) {\n",
    "        this.x = x;\n",
    "        this.getUnlucky = function () {return 13;}\n",
    "    }\n",
    "    console.log(ClassFunction instanceof Function); // true\n",
    "    let cf = new ClassFunction(42);\n",
    "    console.log(cf instanceof ClassFunction);       // true\n",
    "    console.log(cf.x);                              // 42\n",
    "    console.log(cf.getUnlucky instanceof Function); // true\n",
    "    console.log(cf.getUnlucky());                   // 13\n",
    "    \n",
    "    // create a function object using the Function constructor function:\n",
    "    const times1 = new Function('a', 'b', 'return a * b');\n",
    "    console.log(times1(3, 4));                      // 12\n",
    "    // the previous code is equivalent to the following:\n",
    "    const times2 = function (a, b) { return a * b };\n",
    "    console.log(times2(3, 4));                      // 12\n",
    "}"
   ]
  },
  {
   "cell_type": "markdown",
   "metadata": {},
   "source": [
    "## Default Parameters (ES2015)\n",
    "\n",
    "```\n",
    "function [name]([param1[ = defaultValue1 ][, ..., paramN[ = defaultValueN ]]]) {\n",
    "   statements\n",
    "}\n",
    "```"
   ]
  },
  {
   "cell_type": "code",
   "execution_count": 6,
   "metadata": {},
   "outputs": [
    {
     "name": "stdout",
     "output_type": "stream",
     "text": [
      "10\n",
      "10\n",
      "5\n",
      "NaN\n"
     ]
    }
   ],
   "source": [
    "{ // default parameters (ES2015)\n",
    "    function multiply(a, b = 1) {\n",
    "        return a * b;\n",
    "    }\n",
    "    console.log(multiply(5, 2, 77)); // 10\n",
    "    console.log(multiply(5, 2));     // 10\n",
    "    console.log(multiply(5));        // 5\n",
    "    console.log(multiply());         // NaN\n",
    "}"
   ]
  },
  {
   "cell_type": "markdown",
   "metadata": {},
   "source": [
    "## The ```Array.prototype.map()``` Method\n",
    "\n",
    "* The ```Array.prototype.map()``` method returns a new array containing results of the provided callback function\n",
    "* The ```map``` method calls the provided callback function once for each element in the source array in sequential order\n",
    "* The provided callback function is applied to every element in the provided array to produce the results\n",
    "* These results are assembled into the new resulting array\n",
    "* Here is the syntax:\n",
    "    - ```let new_array = arr.map(callback( currentValue[, index[, array]]) { // return element }[, thisArg])```\n",
    "\n",
    "* The ```callback``` function is called for every element in arr and each result returned is added to ```new_array```\n",
    "* The provided ```callback``` function accepts the following arguments:\n",
    "    - ```currentValue``` The current element being processed in the original array\n",
    "    - ```index``` (optional) is the index of the current element being processed in the array\n",
    "    - ```array``` (optional) is the array that the ```map``` method was called on\n",
    "    - ```thisArg``` (optional) is the value to use as ```this``` while executing the callback function\n",
    "* The return value is a new array with each element being the result of the callback function"
   ]
  },
  {
   "cell_type": "code",
   "execution_count": 86,
   "metadata": {},
   "outputs": [
    {
     "name": "stdout",
     "output_type": "stream",
     "text": [
      "[ 7, 5, 5, 4 ]\n",
      "[ 'yrucrum', 'sunev', 'htrae', 'sram' ]\n",
      "[ 2, 8, 18, 32 ]\n",
      "[ false, true, false, true ]\n",
      "[ 0, 3, 5, 7 ]\n"
     ]
    }
   ],
   "source": [
    "{\n",
    "const planets = ['murcury','venus','earth','mars'];\n",
    "console.log(planets.map(planet => planet.length));  // [ 7, 5, 5, 4 ]\n",
    "    \n",
    "function reverseString(str) { return str.split(\"\").reverse().join(\"\"); }\n",
    "console.log(planets.map(reverseString));            // [ 'yrucrum', 'sunev', 'htrae', 'sram' ]\n",
    "    \n",
    "const array1 = [1, 4, 9, 16];\n",
    "console.log(array1.map(x => x * 2));                // [ 2, 8, 18, 32 ]\n",
    "console.log(array1.map(x => x%2 === 0));            // [ false, true, false, true ]\n",
    "// produce array of deltas (discrete derivative: https://calculus.subwiki.org/wiki/Discrete_derivative)\n",
    "console.log(array1.map((x, index, array) => index===0?0:x-array[index-1]));  // [ 0, 3, 5, 7 ]\n",
    "}"
   ]
  },
  {
   "cell_type": "markdown",
   "metadata": {},
   "source": [
    "In strict mode, however, if the value of ```this``` is not set when entering an execution context, it remains ```undefined``` "
   ]
  },
  {
   "cell_type": "markdown",
   "metadata": {},
   "source": [
    "## The ```Function.prototype.apply()``` Function\n",
    "\n",
    "**NOTE**: ```Function.prototype.apply()``` is almost identical to ```Function.prototype.call()```. The difference is that ```apply()``` accepts a single array containing all the arguments , whereas ```call()``` accepts a comma separated argument list.\n",
    "\n",
    "Here is the syntax:\n",
    "\n",
    "```func.apply(thisArg, [argsArray])```\n",
    "\n",
    "* The ```thisArg``` argument is the value of ```this``` provided for the call to ```func``` (use the function as a method on an object)\n",
    "* The ```argsArray``` argument (optional) is an array-like object specifying arguments to passed to ```func```\n",
    "* The return value is the result of calling ```func``` with the specified this and argument values"
   ]
  },
  {
   "cell_type": "code",
   "execution_count": 38,
   "metadata": {},
   "outputs": [
    {
     "name": "stdout",
     "output_type": "stream",
     "text": [
      "Ms. Sally Jones 73 Head Honcho\n",
      "Mr. Joe Smith 92 Master Planner\n",
      "undefined undefined undefined undefined undefined\n"
     ]
    }
   ],
   "source": [
    "{\n",
    "function greet(title, role) {\n",
    "    console.log(title, this.firstName, this.lastName, this.age, role);\n",
    "}\n",
    "const sally = {\n",
    "    firstName: 'Sally', lastName: 'Jones', age: 73\n",
    "};\n",
    "const joe = {\n",
    "    firstName: 'Joe', lastName: 'Smith', age: 92\n",
    "};\n",
    "\n",
    "// invoke greet function as method, where this set to the sally object, and with parameters\n",
    "greet.apply(sally, [\"Ms.\", \"Head Honcho\"]);  // Ms. Sally Jones 73 Head Honcho\n",
    "\n",
    "// invoke greet function as method, where this set to the sally object, and with parameters\n",
    "greet.apply(joe, [\"Mr.\", \"Master Planner\"]); // Mr. Joe Smith 92 Master Planner\n",
    "\n",
    "// invoke greet function with this undefined and parameters undefined (not very useful)\n",
    "greet()                                      // undefined undefined undefined undefined undefined\n",
    "}"
   ]
  },
  {
   "cell_type": "markdown",
   "metadata": {},
   "source": [
    "## The ```Function.prototype.call()``` Function\n",
    "\n",
    "**NOTE**: ```Function.prototype.call()``` is almost identical to ```Function.prototype.apply()```. The difference is that ```call()``` accepts a comma separated argument list, whereas ```apply()``` accepts a single array containing all the arguments.\n",
    "\n",
    "Here is the syntax:\n",
    "\n",
    "```func.call([thisArg[, arg1, arg2, ...argN]])```\n",
    "\n",
    "* ```thisArg``` is an optional value to use as this when calling func\n",
    "* ```arg1```, ```arg2```,... ```argN``` are the optional arguments for the function"
   ]
  },
  {
   "cell_type": "code",
   "execution_count": 39,
   "metadata": {},
   "outputs": [
    {
     "name": "stdout",
     "output_type": "stream",
     "text": [
      "Ms. Sally Jones 73 Head Honcho\n",
      "Mr. Joe Smith 92 Master Planner\n",
      "undefined undefined undefined undefined undefined\n"
     ]
    }
   ],
   "source": [
    "{\n",
    "function greet(title, role) {\n",
    "    console.log(title, this.firstName, this.lastName, this.age, role);\n",
    "}\n",
    "const sally = {\n",
    "    firstName: 'Sally', lastName: 'Jones', age: 73\n",
    "};\n",
    "const joe = {\n",
    "    firstName: 'Joe', lastName: 'Smith', age: 92\n",
    "};\n",
    "\n",
    "// invoke greet function as method, where this set to the sally object, and with parameters\n",
    "greet.call(sally, \"Ms.\", \"Head Honcho\");  // Ms. Sally Jones 73 Head Honcho\n",
    "    \n",
    "// invoke greet function as method, where this set to the sally object, and with parameters\n",
    "greet.call(joe, \"Mr.\", \"Master Planner\");    // Mr. Joe Smith 92 Master Planner\n",
    "    \n",
    "// invoke greet function with this undefined and parameters undefined (not very useful)\n",
    "greet()                      // undefined undefined undefined undefined undefined\n",
    "}"
   ]
  },
  {
   "cell_type": "markdown",
   "metadata": {},
   "source": [
    "## The ```Function.prototype.bind()``` Function\n",
    "\n",
    "* Creates a new function object that (when called) has ```this``` set to the specified object\n",
    "* A sequence of optional arguments can be prepended to arguments provided to the newly-bound function\n",
    "\n",
    "Here is the syntax:\n",
    "\n",
    "```let boundFunc = func.bind(thisArg[, arg1[, arg2[, ...argN]]])```\n",
    "\n",
    "* ```thisArg``` is the value to be passed as the ```this``` parameter to the target function when the bound function is called\n",
    "* ```arg1, arg2, ...argN``` optional arguments to prepend to arguments provided to the bound function when function is called"
   ]
  },
  {
   "cell_type": "code",
   "execution_count": 62,
   "metadata": {},
   "outputs": [
    {
     "name": "stdout",
     "output_type": "stream",
     "text": [
      "obj1.methodGetX() returns: 10\n",
      "unboundMethodGetX() returns: undefined\n",
      "boundMethodGetX() returns: 10\n",
      "boundsomeFunc() returns: 77\n"
     ]
    }
   ],
   "source": [
    "{\n",
    "const obj1 = {\n",
    "    x: 10,\n",
    "    methodGetX: function() {\n",
    "        return this.x;\n",
    "    }\n",
    "};\n",
    "    \n",
    "console.log(\"obj1.methodGetX() returns:\", obj1.methodGetX());     // 10\n",
    "    \n",
    "const unboundMethodGetX = obj1.methodGetX;\n",
    "console.log(\"unboundMethodGetX() returns:\", unboundMethodGetX()); // undefined\n",
    "\n",
    "const boundMethodGetX = unboundMethodGetX.bind(obj1);\n",
    "console.log(\"boundMethodGetX() returns:\", boundMethodGetX());     // 10\n",
    "    \n",
    "const obj2 = {\n",
    "    x: 77,\n",
    "};\n",
    "    \n",
    "const unboundFunction = function () { return this.x; }\n",
    "const boundsomeFunction= unboundFunction.bind(obj2);\n",
    "console.log(\"boundsomeFunc() returns:\", boundsomeFunction());     // 77\n",
    "}"
   ]
  },
  {
   "cell_type": "code",
   "execution_count": null,
   "metadata": {},
   "outputs": [],
   "source": []
  }
 ],
 "metadata": {
  "kernelspec": {
   "display_name": "Javascript (Node.js)",
   "language": "javascript",
   "name": "javascript"
  },
  "language_info": {
   "file_extension": ".js",
   "mimetype": "application/javascript",
   "name": "javascript",
   "version": "10.13.0"
  }
 },
 "nbformat": 4,
 "nbformat_minor": 2
}