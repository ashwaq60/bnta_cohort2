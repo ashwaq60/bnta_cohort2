{
 "cells": [
  {
   "cell_type": "markdown",
   "source": [
    "# HTML5\n",
    "\n",
    "HTML (Hypertext Markup Language) is the standard markup language used for defining Web page content. HTML is used together with CSS (Cascading Style Sheets) and JavaScript to create formatted dynamic web page content. The browser sends an HTTP request message to the web server, which returns an HTTP response message back to the browser, containing HTML content, along with CSS, JavaScript as well as other static files, such as images, audio, and JSON data, etc.\n",
    "\n",
    "- Tim Berners-Lee (while at CERN) created the HTTP protocol and the HTML markup language in 1990-1991\n",
    "- Tim Berners-Lee founded the W3C (World Wide Web Consortium) in 1994 to standardize HTTP and HTML\n",
    "- HTML history timeline: https://en.wikipedia.org/wiki/HTML#HTML_versions_timeline\n",
    "- Wikipedia - HTML: https://en.wikipedia.org/wiki/HTML\n",
    "- Wikipedia - HTTP: https://en.wikipedia.org/wiki/Hypertext_Transfer_Protocol\n",
    "\n",
    "**NOTE** You can try out all the code examples shown here using any of the following code editing tools:\n",
    "\n",
    "- Simple text editor such as **notepad on Windows**, **TextEdit on Mac**, or **Vim on Linux**\n",
    "- A cross-platform code editor such as **Visual Studio Code**: https://code.visualstudio.com/docs\n",
    "  - Install **Live Server** VS Code Extension (Go Live feature)\n",
    "- An online code collaboration platform:\n",
    "  - **JSBin** https://jsbin.com\n",
    "  - **CodePen**: https://codepen.io\n",
    "  - **CodeSandBox**: https://codesandbox.io\n",
    "- And many other possibilities\n",
    "\n",
    "**Jupyter Notebooks**: In order to open Jupyter Notebooks in this course you need to install Anaconda: https://docs.anaconda.com/anaconda/install"
   ],
   "metadata": {}
  },
  {
   "cell_type": "markdown",
   "source": [
    "## Backgrounder: HTTP Overview (click on the following image for details)\n",
    "\n",
    "- From: https://developer.mozilla.org/en-US/docs/Web/HTTP/Overview\n",
    "\n",
    "[![HTTP Overview](https://media.prod.mdn.mozit.cloud/attachments/2016/08/09/13677/d031b77dee83f372ffa4e0389d68108b/Fetching_a_page.png)](https://developer.mozilla.org/en-US/docs/Web/HTTP/Overview)"
   ],
   "metadata": {}
  },
  {
   "cell_type": "markdown",
   "source": [
    "## Topics\n",
    "\n",
    "- Elements and attributes\n",
    "- Block elements vs inline elements\n",
    "- Division elements and span elements\n",
    "- Semantic elements\n",
    "- Images\n",
    "- Hyperlinks\n",
    "- Lists\n",
    "- Tables\n",
    "- JavaScript integration\n",
    "- DOM\n",
    "- Forms\n",
    "- Grid layouts\n",
    "- Fluid layouts\n",
    "- Video and audio\n",
    "- Canvas\n",
    "- SVG\n",
    "- CSS styles\n",
    "- Animations and transitions\n",
    "- Drag and drop\n",
    "- WebGL\n",
    "- Local storage and session storage\n",
    "- IndexedDB\n",
    "- Events: keyboard, mouse, touch, timer, etc.\n",
    "- Device Orientation\n",
    "- Viewport meta-tag\n",
    "- Web workers\n",
    "- Web sockets\n",
    "- WebRTC\n",
    "- Accessibility\n",
    "- Web assembly\n",
    "- Babel and webpack\n",
    "- Responsive design"
   ],
   "metadata": {}
  },
  {
   "cell_type": "markdown",
   "source": [
    "## Documentation and Guidance\n",
    "\n",
    "- MDN - HTML Docs: https://developer.mozilla.org/en-US/docs/Web/HTML\n",
    "- WHATWG HTML Living Standard: https://html.spec.whatwg.org/multipage\n",
    "- W3C Online HTML Validation Service: https://validator.w3.org\n",
    "- Google HTML/CSS Style Guide: https://google.github.io/styleguide/htmlcssguide.html\n",
    "- Browser Feature Compatibility: http://caniuse.com"
   ],
   "metadata": {}
  },
  {
   "cell_type": "markdown",
   "source": [
    "## Try It Out: A Few Fundamental HTML Elements\n",
    "\n",
    "* ```<!DOCTYPE html>``` declaration specifies that this web page is an **HTML5** document\n",
    "* ```<!-- comment... -->``` element specifies a comment (ignored by browser but useful for people)\n",
    "* ```<html>``` element is the root element of this document\n",
    "* ```<head>``` element contains meta information about the document\n",
    "* ```<title>``` element specifies a title for this document (in browser title bar or page tab)\n",
    "* ```<body>``` element contains the visible page content in this document\n",
    "* ```<h1>``` element defines a large heading\n",
    "* ```<p>``` element defines a paragraph\n",
    "- ```<a>``` element (a.k.a. anchor tag) defines a hyperlink to another web resource (e.g. web page, etc.)\n",
    "- ```<br>``` element defines a line break in text (analogy: carriage-return in text file)\n",
    "\n",
    "```html\n",
    "<!DOCTYPE html>\n",
    "<!-- A Few Fundamental HTML Elements -->\n",
    "<html>\n",
    "    <head>\n",
    "        <title>My Title</title>\n",
    "    </head>\n",
    "    <body>\n",
    "        <h1>My Heading</h1>\n",
    "        <p>My paragraph.</p>\n",
    "        <a href=\"https://www.bbc.com\">bbc.com/</a><br>\n",
    "        <a href=\"mailto:foo.bar@bbc.com\">Email us</a><br>\n",
    "        <a href=\"tel:+44123456789\">Phone Us</a><br>\n",
    "    </body>\n",
    "</html>\n",
    "```\n",
    "\n",
    "See: https://jsbin.com/qideqas/edit?html,console,output\n",
    "\n",
    "**Basic HTML Element Syntax**  \n",
    "- From: https://wikimedia.org/api/rest_v1/media/math/render/svg/37506127f0730d9b6035530f46c706af4e2319d4\n",
    "<img src=\"https://wikimedia.org/api/rest_v1/media/math/render/svg/37506127f0730d9b6035530f46c706af4e2319d4\"></img>"
   ],
   "metadata": {}
  },
  {
   "cell_type": "markdown",
   "source": [
    "### HTML Page Structure\n",
    "\n",
    "- See: https://en.wikipedia.org/wiki/HTML#Element_examples\n",
    "- The DOCTYPE declaration: ```<!DOCTYPE html>``` specifies an HTML5 document\n",
    "- Element syntax\n",
    "  - Tags: begin tags, end tags, and self-closing tags\n",
    "  - Attributes: ```id```, ```align```, ```valign```, ```bgcolor```, ```height```, ```width```, ```class```, ```style```, ```<title>```, etc.\n",
    "  - Nested elements\n",
    "  - Nested content\n",
    "- Comment element ```<!-- comment... -->``` is used for explanatory information (ignored by browser)\n",
    "- ```<html>``` element is the single top-level root document container element\n",
    "- ```<head>``` element contains non-visible information about the document\n",
    "- ```<meta>``` element can contain: \n",
    "  - ```charset``` attribute specifies a character encoding\n",
    "  - ```name``` attribute specifies document metadata\n",
    "  - Examples\n",
    "    - ```<meta charset=\"UTF-8\">```\n",
    "    - ```<meta name=\"description\" content=\"Web Tutorial\">```\n",
    "    - ```<meta name=\"keywords\" content=\"HTML, CSS, JavaScript\">```\n",
    "    - ```<meta name=\"author\" content=\"Rocky Racoon\">```\n",
    "    - ```<meta name=\"viewport\" content=\"width=device-width, initial-scale=1.0\">```\n",
    "- ```<title>``` element specifies the title for this document (displayed on browser tab, not in the page)\n",
    "- ```<body>``` element contains visible page content in the document\n",
    "- ```<h1>```... ```<h6>``` heading elements from small to large\n",
    "- ```<p>``` element defines a paragraph\n",
    "- ```<div>``` and ```<span>``` elements define page content organizational structure\n",
    "- ```<body>``` element: contains visible page content in the document\n",
    "- Element layout behavior\n",
    "  - Block elements: https://developer.mozilla.org/en-US/docs/Web/HTML/Block-level_elements#elements\n",
    "  - Inline elements: https://developer.mozilla.org/en-US/docs/Web/HTML/Inline_elements#elements\n",
    "- Semantic elements: ```<header>```, ```<footer>```, ```<article>```, ```<section>```, ```<nav>```, ```<h1>```...```<h6>```, etc.\n",
    "- Content: ```<lists>```, ```<a>```, ```<button>```, etc.\n",
    "- Forms: ```<input>```, ```<form>```, ```<submit>```, etc.\n",
    "- Media: ```<audio>```, ```<video>```, ```<img>```, etc.\n",
    "- Semantic elements\n",
    "  - ```<header>``` header section\n",
    "  - ```<nav>``` navigation bar section\n",
    "  - ```<main>``` main content section\n",
    "  - ```<article>``` article subsection\n",
    "  - ```<section>``` nested subsection\n",
    "  - ```<aside>``` sidebar section\n",
    "  - ```<footer>``` footer section\n",
    "\n",
    "See: https://developer.mozilla.org/en-US/docs/Learn/HTML/Introduction_to_HTML/Document_and_website_structure\n"
   ],
   "metadata": {}
  },
  {
   "cell_type": "markdown",
   "source": [
    "### Try It Out: Another Simple HTML Example (with errors)\n",
    "\n",
    "- Check it out in: https://validator.w3.org/nu/#textarea (no errors)\n",
    "- View content in browser and note: **F12 Dev Tools** console shows **two errors** from missing ```.css``` and ```.js``` files)\n",
    "\n",
    "```html\n",
    "<!DOCTYPE html>\n",
    "<!-- An Example HTML Skeleton -->\n",
    "<html lang=\"en\">\n",
    "<head>\n",
    "  <title>Hello World Example</title>\n",
    "  <meta charset=\"utf-8\">\n",
    "  <meta name=\"author\" content=\"Eleanor Rigby\">\n",
    "  <meta name=\"description\" content=\"An Example HTML Skeleton\">\n",
    "  <meta name=\"viewport\" content=\"width=device-width, initial-scale=1\">\n",
    "  <link href=\"css/style.css\" rel=\"stylesheet\">\n",
    "</head>\n",
    "<body>\n",
    "  <p>Hello, World!</p>\n",
    "  <script src=\"js/script.js\"></script>\n",
    "</body>\n",
    "</html>\n",
    "```\n",
    "![Another Simple HTML Example](img/AnotherSimpleHTMLExample.png)"
   ],
   "metadata": {}
  },
  {
   "cell_type": "markdown",
   "source": [
    "## Try It Out: HTML5 with Image\n",
    "\n",
    "- Check it out in: https://validator.w3.org/nu/#textarea (no errors)\n",
    "- View content in browser F12 Dev Tools (no errors)\n",
    "\n",
    "1. Create the following file named **firstHTML5.html**\n",
    "    - You can create it in a plain text editor (e.g. **notepad.exe** on **Windows** or **TextEdit** on **Mac**)\n",
    "    - Or you can create it in **VS Code** (on **Windows** or **Mac**)\n",
    "2. Then open it in your web browser\n",
    "    - You can open it via the file system (double-clicking or right-clicking)\n",
    "    - You can open it via a local dev http server (e.g. **VS Code** with the **Live Server** Extension installed)\n",
    "    - VSCode ```Ctrl+Shift+P``` is keyboard shortcut (Show All Commands) -> then type **Live Server** and select from list\n",
    "\n",
    "```html\n",
    "<!DOCTYPE html>\n",
    "<!-- First HTML5 Demo -->\n",
    "<html  lang=\"en\">\n",
    "    <title>First HTML5 Demo</title>\n",
    "    <body>\n",
    "        <h1>First HTML5 Demo</h1>\n",
    "        <p>The time has come the walrus said...</p>\n",
    "        <img src=\"https://upload.wikimedia.org/wikipedia/commons/thumb/2/2a/Briny_Beach.jpg/640px-Briny_Beach.jpg\"\n",
    "             alt=\"The Walrus and the Carpenter speaking to the Oysters\">\n",
    "    </body>\n",
    "</html>\n",
    "```\n",
    "\n",
    "3. See: https://jsbin.com/dudozah/edit?html,output"
   ],
   "metadata": {}
  },
  {
   "cell_type": "markdown",
   "source": [
    "## The ```<head>``` Element\n",
    "\n",
    "- Contains Page metadata\n",
    "- Metadata is not displayed in the browser\n",
    "- Common examples of elements that are placed in the ```head``` element are:\n",
    "  - ```<title>``` Document title: https://developer.mozilla.org/en-US/docs/Web/HTML/Element/title\n",
    "  - ```<style>``` CSS rules: https://developer.mozilla.org/en-US/docs/web/html/element/style\n",
    "  - ```<meta>``` Document metadata: https://developer.mozilla.org/en-US/docs/Web/HTML/Element/meta\n",
    "  - ```<link>``` External resource: https://developer.mozilla.org/en-US/docs/Web/HTML/Element/link\n",
    "  - ```<script>``` Embedded code: https://developer.mozilla.org/en-US/docs/Web/HTML/Element/script\n",
    "  - ```<base>``` Relative URL base: https://developer.mozilla.org/en-US/docs/Web/HTML/Element/base\n",
    "\n",
    "```html\n",
    "<head>\n",
    "  <title>My Cool Web Page</title>\n",
    "  <meta charset=\"utf-8\">\n",
    "  <script src=\"myjavascript.js\"></script>\n",
    "  <link href=\"/styles/mystyles.css\" rel=\"stylesheet\">\n",
    "  <style type=\"text/css\">\n",
    "    p {\n",
    "      color: #26b72b;\n",
    "    }\n",
    "  </style>\n",
    "</head>\n",
    "```"
   ],
   "metadata": {}
  },
  {
   "cell_type": "markdown",
   "source": [
    "## Comments\n",
    "\n",
    "```<!-- This is a comment (not rendered by browser) -->```"
   ],
   "metadata": {}
  },
  {
   "cell_type": "code",
   "execution_count": 1,
   "source": [
    "%%html\n",
    "\n",
    "<!-- This is a comment (not rendered by browser) -->\n",
    "<p>This is not a comment (rendered by browser)</p>"
   ],
   "outputs": [
    {
     "output_type": "display_data",
     "data": {
      "text/plain": [
       "<IPython.core.display.HTML object>"
      ],
      "text/html": [
       "\n",
       "<!-- This is a comment (not rendered by browser) -->\n",
       "<p>This is not a comment (rendered by browser)</p>\n"
      ]
     },
     "metadata": {}
    }
   ],
   "metadata": {}
  },
  {
   "cell_type": "markdown",
   "source": [
    "## The  ```<h1>``` ... ```<h6>``` Elements\n",
    "\n",
    "See: https://developer.mozilla.org/en-US/docs/Web/HTML/Element/Heading_Elements"
   ],
   "metadata": {}
  },
  {
   "cell_type": "code",
   "execution_count": 2,
   "source": [
    "%%html\n",
    "\n",
    "<div style=\"background-color:beige\">\n",
    "<h1>h1 heading</h1>\n",
    "<h2>h2 heading</h2>\n",
    "<h3>h3 heading</h3>\n",
    "<h4>h4 heading</h4>\n",
    "<h5>h5 heading</h5>\n",
    "<h6>h6 heading</h6>\n",
    "<h1 style=\"font-size:40px;\">This is an h1 heading 40px font-size</h1>\n",
    "<div>"
   ],
   "outputs": [
    {
     "output_type": "display_data",
     "data": {
      "text/plain": [
       "<IPython.core.display.HTML object>"
      ],
      "text/html": [
       "\n",
       "<div style=\"background-color:beige\">\n",
       "<h1>h1 heading</h1>\n",
       "<h2>h2 heading</h2>\n",
       "<h3>h3 heading</h3>\n",
       "<h4>h4 heading</h4>\n",
       "<h5>h5 heading</h5>\n",
       "<h6>h6 heading</h6>\n",
       "<h1 style=\"font-size:40px;\">This is an h1 heading 40px font-size</h1>\n",
       "<div>\n"
      ]
     },
     "metadata": {}
    }
   ],
   "metadata": {}
  },
  {
   "cell_type": "markdown",
   "source": [
    "## The ```style``` Attribute (in-line style)\n"
   ],
   "metadata": {}
  },
  {
   "cell_type": "code",
   "execution_count": 3,
   "source": [
    "%%html\n",
    "\n",
    "<p>This is an un-styled paragraph.</p>\n",
    "<p style=\"color:red\">This is a styled paragraph.</p>"
   ],
   "outputs": [
    {
     "output_type": "display_data",
     "data": {
      "text/plain": [
       "<IPython.core.display.HTML object>"
      ],
      "text/html": [
       "\n",
       "<p>This is an un-styled paragraph.</p>\n",
       "<p style=\"color:red\">This is a styled paragraph.</p>\n"
      ]
     },
     "metadata": {}
    }
   ],
   "metadata": {}
  },
  {
   "cell_type": "code",
   "execution_count": 4,
   "source": [
    "%%html\n",
    "\n",
    "<div style=\"background-color:beige;\">\n",
    "<h1 style=\"color:blue;\">This is an h1 element</h1>\n",
    "<p style=\"text-align:center;font-family:courier;\">This is a p element.</p>\n",
    "</div>"
   ],
   "outputs": [
    {
     "output_type": "display_data",
     "data": {
      "text/plain": [
       "<IPython.core.display.HTML object>"
      ],
      "text/html": [
       "\n",
       "<div style=\"background-color:beige;\">\n",
       "<h1 style=\"color:blue;\">This is an h1 element</h1>\n",
       "<p style=\"text-align:center;font-family:courier;\">This is a p element.</p>\n",
       "</div>\n"
      ]
     },
     "metadata": {}
    }
   ],
   "metadata": {}
  },
  {
   "cell_type": "code",
   "execution_count": 5,
   "source": [
    "%%html\n",
    "\n",
    "<p>This is a deleted element: <del>deleted</del>.</p>"
   ],
   "outputs": [
    {
     "output_type": "display_data",
     "data": {
      "text/plain": [
       "<IPython.core.display.HTML object>"
      ],
      "text/html": [
       "\n",
       "<p>This is a deleted element: <del>deleted</del>.</p>\n"
      ]
     },
     "metadata": {}
    }
   ],
   "metadata": {}
  },
  {
   "cell_type": "markdown",
   "source": [
    "## The ```title``` Attribute (tooltip)"
   ],
   "metadata": {}
  },
  {
   "cell_type": "code",
   "execution_count": 6,
   "source": [
    "%%html\n",
    "\n",
    "<p>Mouse over the following paragraph to see the tooltip</p>\n",
    "<p title=\"I'm a tooltip\">This is a styled paragraph with a tooltip.</p>"
   ],
   "outputs": [
    {
     "output_type": "display_data",
     "data": {
      "text/plain": [
       "<IPython.core.display.HTML object>"
      ],
      "text/html": [
       "\n",
       "<p>Mouse over the following paragraph to see the tooltip</p>\n",
       "<p title=\"I'm a tooltip\">This is a styled paragraph with a tooltip.</p>\n"
      ]
     },
     "metadata": {}
    }
   ],
   "metadata": {}
  },
  {
   "cell_type": "code",
   "execution_count": 7,
   "source": [
    "%%html\n",
    "\n",
    "<p>Mouse over the following paragraphs to see the tooltip</p>\n",
    "<p title=\"I'm a tooltip\">This is an unstyled paragraph with a tooltip.</p>\n",
    "<p style=\"color:red\" title=\"I'm a tooltip\">This is a styled paragraph with a tooltip.</p>"
   ],
   "outputs": [
    {
     "output_type": "display_data",
     "data": {
      "text/plain": [
       "<IPython.core.display.HTML object>"
      ],
      "text/html": [
       "\n",
       "<p>Mouse over the following paragraphs to see the tooltip</p>\n",
       "<p title=\"I'm a tooltip\">This is an unstyled paragraph with a tooltip.</p>\n",
       "<p style=\"color:red\" title=\"I'm a tooltip\">This is a styled paragraph with a tooltip.</p>\n"
      ]
     },
     "metadata": {}
    }
   ],
   "metadata": {}
  },
  {
   "cell_type": "markdown",
   "source": [
    "## A few more Common Element Attributes\n",
    "\n",
    "- ```alt``` provides alternate text for image\n",
    "- ```disabled``` disables input element\n",
    "- ```href``` provides URL for a link\n",
    "- ```id``` provides a unique id for an element\n",
    "- ```src``` provides URL for an image\n",
    "- ```style``` provides inline CSS style rules\n",
    "- ```title``` provides tool tip text"
   ],
   "metadata": {}
  },
  {
   "cell_type": "markdown",
   "source": [
    "## The ```<hr>``` and ```<br>``` Elements (horizontal rules and line breaks)"
   ],
   "metadata": {}
  },
  {
   "cell_type": "code",
   "execution_count": 8,
   "source": [
    "%%html\n",
    "\n",
    "<span>one</span><span>two</span>\n",
    "<hr/>\n",
    "<span>one</span><br/><span>two</span>"
   ],
   "outputs": [
    {
     "output_type": "display_data",
     "data": {
      "text/plain": [
       "<IPython.core.display.HTML object>"
      ],
      "text/html": [
       "\n",
       "<span>one</span><span>two</span>\n",
       "<hr/>\n",
       "<span>one</span><br/><span>two</span>\n"
      ]
     },
     "metadata": {}
    }
   ],
   "metadata": {}
  },
  {
   "cell_type": "markdown",
   "source": [
    "# Breakout! 15'"
   ],
   "metadata": {}
  },
  {
   "cell_type": "markdown",
   "source": [
    "## The ```<div>``` and ```<span>``` Elements\n",
    "\n",
    "- ```<div>``` is a block container: https://developer.mozilla.org/en-US/docs/Web/HTML/Element/div\n",
    "- ```<span>``` is an inline container: https://developer.mozilla.org/en-US/docs/Web/HTML/Element/span"
   ],
   "metadata": {}
  },
  {
   "cell_type": "code",
   "execution_count": 9,
   "source": [
    "%%html\n",
    "\n",
    "<div style=\"background-color:yellow;}\">\n",
    "    <p style=\"color:red;\">This is a paragraph in a div. It also contains a <span style=\"color:green;\">span</span></p>\n",
    "</div>"
   ],
   "outputs": [
    {
     "output_type": "display_data",
     "data": {
      "text/plain": [
       "<IPython.core.display.HTML object>"
      ],
      "text/html": [
       "\n",
       "<div style=\"background-color:yellow;}\">\n",
       "    <p style=\"color:red;\">This is a paragraph in a div. It also contains a <span style=\"color:green;\">span</span></p>\n",
       "</div>\n"
      ]
     },
     "metadata": {}
    }
   ],
   "metadata": {}
  },
  {
   "cell_type": "markdown",
   "source": [
    "## The ```<a>``` Element (anchor)\n",
    "\n",
    "- Attributes:\n",
    "  - ```download``` prompts the user to save the linked URL instead of navigating to it\n",
    "  - ```href``` specifies the URL that the hyperlink points to (any URL scheme supported by browsers)\n",
    "  - ```target``` specifies where to display the URL result\n",
    "    - ```_self``` means the current browsing context (default)\n",
    "    - ```_blank``` means a new tab\n",
    "    - ```_parent``` means the parent browsing context (if no parent then behaves as ```_self```)\n",
    "    - ```_top``` means topmost browsing context (if no ancestors then behaves as ```_self```)\n",
    "\n",
    "\n",
    "- Anchor element docs: https://developer.mozilla.org/en-US/docs/Web/HTML/Element/a"
   ],
   "metadata": {}
  },
  {
   "cell_type": "code",
   "execution_count": 10,
   "source": [
    "%%html\n",
    "\n",
    "Click here: <a href=\"https://dev.w3.org/html5/html-author/\" target=\"_blank\">W3C HTML5 Reference</a>"
   ],
   "outputs": [
    {
     "output_type": "display_data",
     "data": {
      "text/plain": [
       "<IPython.core.display.HTML object>"
      ],
      "text/html": [
       "\n",
       "Click here: <a href=\"https://dev.w3.org/html5/html-author/\" target=\"_blank\">W3C HTML5 Reference</a>\n"
      ]
     },
     "metadata": {}
    }
   ],
   "metadata": {}
  },
  {
   "cell_type": "markdown",
   "source": [
    "## The ```<img>``` Element\n",
    "\n",
    "- Image formats: gif, jpeg, png, svg, etc.\n",
    "- Image attributes:\n",
    "  - ```src``` contains the path to the image (not optional)\n",
    "  - ```alt``` provides text description of image (accessibility and screen readers)\n",
    "  - ```title``` provides tooltip\n",
    "  - ```width```\n",
    "  - ```height```\n",
    "  - etc.\n",
    "\n",
    "- Image element docs: https://developer.mozilla.org/en-US/docs/Web/HTML/Element/img"
   ],
   "metadata": {}
  },
  {
   "cell_type": "code",
   "execution_count": 11,
   "source": [
    "%%html\n",
    "\n",
    "<img src=\"https://upload.wikimedia.org/wikipedia/commons/thumb/6/68/Orange_tabby_cat_sitting_on_fallen_leaves-Hisashi-01A.jpg/180px-Orange_tabby_cat_sitting_on_fallen_leaves-Hisashi-01A.jpg\" alt=\"Orange tabby  cat\">"
   ],
   "outputs": [
    {
     "output_type": "display_data",
     "data": {
      "text/plain": [
       "<IPython.core.display.HTML object>"
      ],
      "text/html": [
       "\n",
       "<img src=\"https://upload.wikimedia.org/wikipedia/commons/thumb/6/68/Orange_tabby_cat_sitting_on_fallen_leaves-Hisashi-01A.jpg/180px-Orange_tabby_cat_sitting_on_fallen_leaves-Hisashi-01A.jpg\" alt=\"Orange tabby  cat\">\n"
      ]
     },
     "metadata": {}
    }
   ],
   "metadata": {}
  },
  {
   "cell_type": "markdown",
   "source": [
    "## The ```<ul>``` and ```<li>``` Elements (unordered lists)\n",
    "\n",
    "See: https://developer.mozilla.org/en-US/docs/Web/HTML/Element/ul"
   ],
   "metadata": {}
  },
  {
   "cell_type": "code",
   "execution_count": 12,
   "source": [
    "%%html\n",
    "\n",
    "<ul>\n",
    "  <li>Red</li>\n",
    "  <li>Green</li>\n",
    "  <li>Blue</li>\n",
    "</ul>\n",
    "<ol>\n",
    "    <li>One</li>\n",
    "    <li>Two</li>\n",
    "    <li>Three</li>\n",
    "</ol>"
   ],
   "outputs": [
    {
     "output_type": "display_data",
     "data": {
      "text/plain": [
       "<IPython.core.display.HTML object>"
      ],
      "text/html": [
       "\n",
       "<ul>\n",
       "  <li>Red</li>\n",
       "  <li>Green</li>\n",
       "  <li>Blue</li>\n",
       "</ul>\n",
       "<ol>\n",
       "    <li>One</li>\n",
       "    <li>Two</li>\n",
       "    <li>Three</li>\n",
       "</ol>\n"
      ]
     },
     "metadata": {}
    }
   ],
   "metadata": {}
  },
  {
   "cell_type": "markdown",
   "source": [
    "## The ```<ol>``` and ```<li>``` Elements (ordered lists)\n",
    "\n",
    "See: https://developer.mozilla.org/en-US/docs/Web/HTML/Element/ol"
   ],
   "metadata": {}
  },
  {
   "cell_type": "code",
   "execution_count": 13,
   "source": [
    "%%html\n",
    "\n",
    "<ol>\n",
    "    <li>Item</li>\n",
    "    <li>Another Item</li>\n",
    "    <li>Yet Another Item</li>\n",
    "</ol>"
   ],
   "outputs": [
    {
     "output_type": "display_data",
     "data": {
      "text/plain": [
       "<IPython.core.display.HTML object>"
      ],
      "text/html": [
       "\n",
       "<ol>\n",
       "    <li>Item</li>\n",
       "    <li>Another Item</li>\n",
       "    <li>Yet Another Item</li>\n",
       "</ol>\n"
      ]
     },
     "metadata": {}
    }
   ],
   "metadata": {}
  },
  {
   "cell_type": "markdown",
   "source": [
    "## The ```<dl>``` and ```<dt>``` Elements (description lists)\n",
    "\n",
    "See: https://developer.mozilla.org/en-US/docs/Web/HTML/Element/dl"
   ],
   "metadata": {}
  },
  {
   "cell_type": "code",
   "execution_count": 14,
   "source": [
    "%%html\n",
    "\n",
    "<dl>\n",
    "    <dt>name 1</dt>\n",
    "    <dd>value for 1</dd>\n",
    "    <dt>name 2</dt>\n",
    "    <dd>value for 2</dd>\n",
    "</dl>"
   ],
   "outputs": [
    {
     "output_type": "display_data",
     "data": {
      "text/plain": [
       "<IPython.core.display.HTML object>"
      ],
      "text/html": [
       "\n",
       "<dl>\n",
       "    <dt>name 1</dt>\n",
       "    <dd>value for 1</dd>\n",
       "    <dt>name 2</dt>\n",
       "    <dd>value for 2</dd>\n",
       "</dl>\n"
      ]
     },
     "metadata": {}
    }
   ],
   "metadata": {}
  },
  {
   "cell_type": "markdown",
   "source": [
    "## The ```<button>``` Element\n",
    "\n",
    "See: https://developer.mozilla.org/en-US/docs/Web/HTML/Element/button"
   ],
   "metadata": {}
  },
  {
   "cell_type": "code",
   "execution_count": 15,
   "source": [
    "%%html\n",
    "\n",
    "<button onclick=\"handleClick()\">Click me</button>\n",
    "<div id=\"result\"></div>\n",
    "\n",
    "<script>\n",
    "function handleClick() {\n",
    "  var now = new Date();\n",
    "  document.getElementById(\"result\").innerHTML = \n",
    "    \"Date: \" + now.getFullYear() + '-' + (now.getMonth()+1) + '-'+ now.getDate() + \"<br>\" +\n",
    "    \"Time: \" + now.getHours() + \":\" + now.getMinutes() + \":\" + now.getSeconds();\n",
    "}\n",
    "</script>"
   ],
   "outputs": [
    {
     "output_type": "display_data",
     "data": {
      "text/plain": [
       "<IPython.core.display.HTML object>"
      ],
      "text/html": [
       "\n",
       "<button onclick=\"handleClick()\">Click me</button>\n",
       "<div id=\"result\"></div>\n",
       "\n",
       "<script>\n",
       "function handleClick() {\n",
       "  var now = new Date();\n",
       "  document.getElementById(\"result\").innerHTML = \n",
       "    \"Date: \" + now.getFullYear() + '-' + (now.getMonth()+1) + '-'+ now.getDate() + \"<br>\" +\n",
       "    \"Time: \" + now.getHours() + \":\" + now.getMinutes() + \":\" + now.getSeconds();\n",
       "}\n",
       "</script>\n"
      ]
     },
     "metadata": {}
    }
   ],
   "metadata": {}
  },
  {
   "cell_type": "markdown",
   "source": [
    "## The ```<i>```,  ```<b>```, ```<u>```, ```<em>```, ```<mark>```, and ```<strong>``` Elements\n",
    "\n",
    "- ```<i>``` italic: https://developer.mozilla.org/en-US/docs/Web/HTML/Element/i\n",
    "- ```<b>``` bold: https://developer.mozilla.org/en-US/docs/Web/HTML/Element/b\n",
    "- ```<u>``` underline: https://developer.mozilla.org/en-US/docs/Web/HTML/Element/u\n",
    "- ```<em>``` emphasis: https://developer.mozilla.org/en-US/docs/Web/HTML/Element/em\n",
    "    - ```<i>``` vs ```<em>```: https://developer.mozilla.org/en-US/docs/Web/HTML/Element/em#%3Ci%3E_vs._%3Cem%3E\n",
    "- ```<mark>``` marked: https://developer.mozilla.org/en-US/docs/Web/HTML/Element/mark\n",
    "- ```<strong>``` https://developer.mozilla.org/en-US/docs/Web/HTML/Element/strong"
   ],
   "metadata": {}
  },
  {
   "cell_type": "code",
   "execution_count": 16,
   "source": [
    "%%html\n",
    "\n",
    "<p>plain <i>italic</i> <b>bold</b> <u>underline</u> <em>emphasis</em> <mark>mark</mark> <strong>strong</strong></p>"
   ],
   "outputs": [
    {
     "output_type": "display_data",
     "data": {
      "text/plain": [
       "<IPython.core.display.HTML object>"
      ],
      "text/html": [
       "\n",
       "<p>plain <i>italic</i> <b>bold</b> <u>underline</u> <em>emphasis</em> <mark>mark</mark> <strong>strong</strong></p>\n"
      ]
     },
     "metadata": {}
    }
   ],
   "metadata": {}
  },
  {
   "cell_type": "markdown",
   "source": [
    "## The ```<abbr>```, ```<ins>```, ```<del>```, ```<sub>```, and ```<sup>``` Elements\n",
    "\n",
    "- ```<abbr>```abbreviation: https://developer.mozilla.org/en-US/docs/web/html/element/abbr\n",
    "- ```<ins>```inserted: https://developer.mozilla.org/en-US/docs/web/html/element/ins\n",
    "- ```<del>```deleted: https://developer.mozilla.org/en-US/docs/Web/HTML/Element/del\n",
    "- ```<sub>```subscript: https://developer.mozilla.org/en-US/docs/Web/HTML/Element/sub\n",
    "- ```<sup>```superscript: https://developer.mozilla.org/en-US/docs/Web/HTML/Element/sup"
   ],
   "metadata": {}
  },
  {
   "cell_type": "code",
   "execution_count": 17,
   "source": [
    "%%html\n",
    "\n",
    "<p>This is an abbreviation <abbr title=\"Hypertext Markup Language\">HTML</abbr>, so hover your mouse over it to see what it stands for.</p>\n",
    "<p><ins>This text is displayed as inserted</ins><br/></p>\n",
    "<p><del>This text is displayed as deleted</del><br/></p>\n",
    "<p>x<sub>i</sub> is the i<sup>th</sup> element in an array</p>\n",
    "<p>x<sup>n</sup> is x raised to the power of n</p>\n"
   ],
   "outputs": [
    {
     "output_type": "display_data",
     "data": {
      "text/plain": [
       "<IPython.core.display.HTML object>"
      ],
      "text/html": [
       "\n",
       "<p>This is an abbreviation <abbr title=\"Hypertext Markup Language\">HTML</abbr>, so hover your mouse over it to see what it stands for.</p>\n",
       "<p><ins>This text is displayed as inserted</ins><br/></p>\n",
       "<p><del>This text is displayed as deleted</del><br/></p>\n",
       "<p>x<sub>i</sub> is the i<sup>th</sup> element in an array</p>\n",
       "<p>x<sup>n</sup> is x raised to the power of n</p>\n"
      ]
     },
     "metadata": {}
    }
   ],
   "metadata": {}
  },
  {
   "cell_type": "markdown",
   "source": [
    "# Break"
   ],
   "metadata": {}
  },
  {
   "cell_type": "markdown",
   "source": [
    "##  Semantic Elements\n",
    "\n",
    "- The word \"**semantic**\" refers to **meaning** in language\n",
    "- Semantic elements refer to the meaning of page content\n",
    "- This semantic \"meaning\" goes beyond the superficial look-and-feel and visual presentation of content\n",
    "- ```<section>``` See: https://developer.mozilla.org/en-US/docs/Web/HTML/Element/section\n",
    "- ```<article>``` See: https://developer.mozilla.org/en-US/docs/Web/HTML/Element/article\n",
    "- ```<aside>``` See: https://developer.mozilla.org/en-US/docs/Web/HTML/Element/aside\n",
    "- ```<header>``` See: https://developer.mozilla.org/en-US/docs/Web/HTML/Element/header\n",
    "- ```<footer>``` See: https://developer.mozilla.org/en-US/docs/Web/HTML/Element/footer\n",
    "- ```<nav>``` See: https://developer.mozilla.org/en-US/docs/Web/HTML/Element/nav\n",
    "- ```<address>``` See: https://developer.mozilla.org/en-US/docs/Web/HTML/Element/address\n",
    "- Example: https://www.w3schools.com/html/tryit.asp?filename=tryhtml5_article2\n",
    "- Also see: https://en.wikipedia.org/wiki/Semantic_HTML"
   ],
   "metadata": {}
  },
  {
   "cell_type": "markdown",
   "source": [
    "## The ```<dialog>``` Element: (a trivial example)"
   ],
   "metadata": {}
  },
  {
   "cell_type": "code",
   "execution_count": 18,
   "source": [
    "%%html\n",
    "\n",
    "<dialog open>\n",
    "  <p>Greetings, one and all!</p>\n",
    "</dialog>"
   ],
   "outputs": [
    {
     "output_type": "display_data",
     "data": {
      "text/plain": [
       "<IPython.core.display.HTML object>"
      ],
      "text/html": [
       "\n",
       "<dialog open>\n",
       "  <p>Greetings, one and all!</p>\n",
       "</dialog>\n"
      ]
     },
     "metadata": {}
    }
   ],
   "metadata": {}
  },
  {
   "cell_type": "markdown",
   "source": [
    "## The ```<dialog>``` Element (a more advanced example)\n",
    "\n",
    "- The ```<dialog>``` Element: https://developer.mozilla.org/en-US/docs/Web/HTML/Element/dialog\n",
    "\n",
    "Also see: https://codepen.io/peterteach/pen/zYKxNZp"
   ],
   "metadata": {}
  },
  {
   "cell_type": "markdown",
   "source": [
    "## The ```<figure>``` Element\n",
    "\n",
    "- The ```<figure>``` Element: https://developer.mozilla.org/en-US/docs/Web/HTML/Element/figure"
   ],
   "metadata": {}
  },
  {
   "cell_type": "code",
   "execution_count": 19,
   "source": [
    "%%html\n",
    "\n",
    "<figure>\n",
    "    <img src=\"https://upload.wikimedia.org/wikipedia/commons/a/a1/Alan_Turing_Aged_16.jpg\"\n",
    "         alt=\"Elephant at sunset\">\n",
    "    <figcaption>Alan Turing at age 16</figcaption>\n",
    "</figure>"
   ],
   "outputs": [
    {
     "output_type": "display_data",
     "data": {
      "text/plain": [
       "<IPython.core.display.HTML object>"
      ],
      "text/html": [
       "\n",
       "<figure>\n",
       "    <img src=\"https://upload.wikimedia.org/wikipedia/commons/a/a1/Alan_Turing_Aged_16.jpg\"\n",
       "         alt=\"Elephant at sunset\">\n",
       "    <figcaption>Alan Turing at age 16</figcaption>\n",
       "</figure>\n"
      ]
     },
     "metadata": {}
    }
   ],
   "metadata": {}
  },
  {
   "cell_type": "markdown",
   "source": [
    "# Breakout! 7'"
   ],
   "metadata": {}
  },
  {
   "cell_type": "markdown",
   "source": [
    "## The ```form``` Element\n",
    "\n",
    "- Web forms are mostly used to collect data input from users\n",
    "- Web forms require some use of CSS and JavaScript to actually be useful\n",
    "\n",
    "See: https://en.wikipedia.org/wiki/Form_(HTML)\n",
    "\n",
    "### Form Attributes\n",
    "\n",
    "* ```accept-charset``` specifies character encodings for form submission\n",
    "* ```action``` specifies where to send form-data when submitted\n",
    "* ```autocomplete``` specifies whether form should autocomplete\n",
    "* ```enctype``` specifies how form-data is encoded when submitted to server (```post``` only)\n",
    "* ```method``` specifies HTTP method for sending form-data (```post``` or ```get```)\n",
    "* ```name``` specifies name of form\n",
    "* ```novalidate``` specifies form is not to be validated when submitted\n",
    "* ```target``` specifies where to display response to be received from submitting form\n",
    "\n",
    "### Basic Native ```form``` Controls (child elements)\n",
    "\n",
    "* ```input``` specifies an input field where the user can enter data\n",
    "* ```textarea``` defines a multi-line text input control\n",
    "* ```button``` defines a clickable button\n",
    "* ```select``` creates a drop-down list\n",
    "* ```option``` defines an option in a ```select``` list\n",
    "* ```optgroup``` groups related options in a ```select``` element (drop-down list)\n",
    "* ```fieldset``` groups related elements in a ```form``` element\n",
    "* ```label``` defines a label for an ```input```, ```meter```, ```progress```, ```select```, or ```textarea``` element\n",
    "* ```output``` displays the result of a calculation output\n",
    "\n",
    "- The ```<input>``` Element\n",
    "- The ```type``` Attribute\n",
    "  - HTML4: ```text```, ```password```, ```checkbox```, ```radio```, ```button```, ```submit```, ```file```, ```hidden```, ```select```, ```textarea```, etc.\n",
    "  - HTML5: ```datetime```, ```date```, ```month```, ```week```, ```time```, ```number```, ```range```, ```email```, ```url```, etc.\n",
    "\n",
    "### A Simple Form Example\n",
    "```html\n",
    "<form method=\"post\" enctype=\"multipart/form-data\" action=\"upload.php\">\n",
    "    <input type=\"file\" name=\"pic\" />\n",
    "    <input type=\"submit\" value=\"Upload\" />\n",
    "</form>\n",
    "```\n",
    "### A More Interesting Form Example\n",
    "\n",
    "```html\n",
    "<form action=\"/action_page.php\">\n",
    "    <label for=\"fname\">First name:</label>\n",
    "    <input type=\"text\" id=\"fname\" name=\"fname\"><br><br>\n",
    "    <label for=\"lname\">Last name:</label>\n",
    "    <input type=\"text\" id=\"lname\" name=\"lname\"><br><br>\n",
    "    <input type=\"submit\" value=\"Submit\">\n",
    "</form>\n",
    "```\n",
    "\n",
    "```html\n",
    "<form action = \"http://example.com/action\" method = \"post\">  \n",
    "  <label for = \"firstname\">first name: </label> \n",
    "  <input type = \"text\" id = \"firstname\"><br /> \n",
    "  <label for = \"lastname\">last name: </label> \n",
    "  <input type = \"text\" id = \"lastname\"><br /> \n",
    "  <label for = \"email\">email: </label> \n",
    "  <input type = \"text\" id = \"email\"><br> \n",
    "  <input type = \"radio\" name = \"gender\" value = \"male\">M<br> \n",
    "  <input type = \"radio\" name = \"gender\" value = \"female\">F<br> \n",
    "  <input type = \"submit\" value = \"send\">\n",
    "  <input type = \"reset\"> \n",
    "</form> \n",
    "```\n",
    "\n",
    "### A Few MDN Forms Docs\n",
    "\n",
    "- Your first form: https://developer.mozilla.org/en-US/docs/Learn/Forms/Your_first_form\n",
    "- How to structure a web form: https://developer.mozilla.org/en-US/docs/Learn/Forms/How_to_structure_a_web_form\n",
    "- Basic native form controls: https://developer.mozilla.org/en-US/docs/Learn/Forms/Basic_native_form_controls\n",
    "- The HTML5 input types: https://developer.mozilla.org/en-US/docs/Learn/Forms/HTML5_input_types\n",
    "- Styling web forms: https://developer.mozilla.org/en-US/docs/Learn/Forms/Styling_web_forms"
   ],
   "metadata": {}
  },
  {
   "cell_type": "markdown",
   "source": [
    "## HTML Escape Sequences\n",
    "\n",
    "- You can use a character escape to represent any Unicode character in HTML using only ASCII characters\n",
    "- This is required in situations where the intended literal content conflicts with intrinsic HTML syntax rules\n",
    "- The following characters are reserved in HTML and must be replaced with their corresponding escape sequences:\n",
    "  - ```\"``` is replaced with ```&quot;```\n",
    "  - ```&``` is replaced with ```&amp;```\n",
    "  - ```<``` is replaced with ```&lt;```\n",
    "  - ```>``` is replaced with ```&gt;```\n",
    "\n",
    "For example, the following text would need to be escaped so that the browser could render it as HTML code:\n",
    "```html\n",
    "<canvas id=\"canvas1\" width=\"200\" height=\"200\" style=\"border:1px solid #000000;\">\n",
    "Your browser does not support the HTML5 canvas tag.</canvas>\n",
    "```\n",
    "The resulting escaped content would then be:\n",
    "```\n",
    "&lt;canvas id=&quot;canvas1&quot; width=&quot;200&quot; height=&quot;200&quot; style=&quot;border:1px solid #000000;&quot;&gt;Your browser does not support the HTML5 canvas tag.&lt;/canvas&gt;\n",
    "```\n",
    "\n",
    "### Try it out: https://www.freeformatter.com/html-escape.html#ad-output"
   ],
   "metadata": {}
  },
  {
   "cell_type": "markdown",
   "source": [
    "# Break"
   ],
   "metadata": {}
  },
  {
   "cell_type": "markdown",
   "source": [
    "## The ```<canvas>``` Element (imperative graphics)\n",
    "\n",
    "- ```<canvas>``` Is used to draw graphics and animations using the **Canvas API** or **WebGL API**\n",
    "- See: https://developer.mozilla.org/en-US/docs/Web/HTML/Element/canvas"
   ],
   "metadata": {}
  },
  {
   "cell_type": "code",
   "execution_count": 20,
   "source": [
    "%%html\n",
    "\n",
    "<canvas id=\"canvas1\" width=\"200\" height=\"200\" style=\"border:1px solid #000000;\">\n",
    "Your browser does not support the HTML5 canvas tag.</canvas>\n",
    "\n",
    "<script>\n",
    "var c = document.getElementById(\"canvas1\");\n",
    "var ctx = c.getContext(\"2d\");\n",
    "ctx.moveTo(0,0);\n",
    "ctx.lineTo(200,200);\n",
    "ctx.strokeStyle = '#ff0000';\n",
    "ctx.stroke();\n",
    "ctx.beginPath();\n",
    "ctx.arc(100, 100, 40, 0, 2 * Math.PI);\n",
    "ctx.strokeStyle = '#00ff00';\n",
    "ctx.stroke();\n",
    "ctx.font = \"20px Comic Sans MS\";\n",
    "ctx.fillStyle = '#0000ff';\n",
    "ctx.fillText(\"Hello Canvas\", 70, 50);\n",
    "</script>"
   ],
   "outputs": [
    {
     "output_type": "display_data",
     "data": {
      "text/plain": [
       "<IPython.core.display.HTML object>"
      ],
      "text/html": [
       "\n",
       "<canvas id=\"canvas1\" width=\"200\" height=\"200\" style=\"border:1px solid #000000;\">\n",
       "Your browser does not support the HTML5 canvas tag.</canvas>\n",
       "\n",
       "<script>\n",
       "var c = document.getElementById(\"canvas1\");\n",
       "var ctx = c.getContext(\"2d\");\n",
       "ctx.moveTo(0,0);\n",
       "ctx.lineTo(200,200);\n",
       "ctx.strokeStyle = '#ff0000';\n",
       "ctx.stroke();\n",
       "ctx.beginPath();\n",
       "ctx.arc(100, 100, 40, 0, 2 * Math.PI);\n",
       "ctx.strokeStyle = '#00ff00';\n",
       "ctx.stroke();\n",
       "ctx.font = \"20px Comic Sans MS\";\n",
       "ctx.fillStyle = '#0000ff';\n",
       "ctx.fillText(\"Hello Canvas\", 70, 50);\n",
       "</script>\n"
      ]
     },
     "metadata": {}
    }
   ],
   "metadata": {}
  },
  {
   "cell_type": "markdown",
   "source": [
    " ## The ```<svg>``` Element (declarative graphics)\n",
    "\n",
    "**SVG** (Scalable Vector Graphics) is an HTML extension markup language used to define declarative graphic content\n",
    "\n",
    "- ```<svg>``` is used as an SVG markup container\n",
    "- See: https://developer.mozilla.org/en-US/docs/Web/SVG/Element/svg\n",
    "- See: https://www.w3schools.com/graphics/svg_intro.asp\n",
    "- See: https://en.wikipedia.org/wiki/Scalable_Vector_Graphics"
   ],
   "metadata": {}
  },
  {
   "cell_type": "code",
   "execution_count": 21,
   "source": [
    "%%html\n",
    "\n",
    "<svg width='200' height='200' style=\"border:1px solid #000000;\">\n",
    "<rect x='100' y='40' width='80' height='80' style='fill: red;'></rect>\n",
    "<circle cx=\"50\" cy=\"50\" r=\"40\" stroke=\"green\" stroke-width=\"4\" fill=\"yellow\" />\n",
    "<ellipse cx=\"100\" cy=\"150\" rx=\"80\" ry=\"50\" style=\"fill:yellow;stroke:blue;stroke-width:2\" />\n",
    "<line x1=\"0\" y1=\"0\" x2=\"200\" y2=\"200\" style=\"stroke:rgb(255,0,0);stroke-width:5\" />\n",
    "<text x=\"100\" y=\"20\" fill=\"magenta\">Hello SVG</text>\n",
    "</svg>"
   ],
   "outputs": [
    {
     "output_type": "display_data",
     "data": {
      "text/plain": [
       "<IPython.core.display.HTML object>"
      ],
      "text/html": [
       "\n",
       "<svg width='200' height='200' style=\"border:1px solid #000000;\">\n",
       "<rect x='100' y='40' width='80' height='80' style='fill: red;'></rect>\n",
       "<circle cx=\"50\" cy=\"50\" r=\"40\" stroke=\"green\" stroke-width=\"4\" fill=\"yellow\" />\n",
       "<ellipse cx=\"100\" cy=\"150\" rx=\"80\" ry=\"50\" style=\"fill:yellow;stroke:blue;stroke-width:2\" />\n",
       "<line x1=\"0\" y1=\"0\" x2=\"200\" y2=\"200\" style=\"stroke:rgb(255,0,0);stroke-width:5\" />\n",
       "<text x=\"100\" y=\"20\" fill=\"magenta\">Hello SVG</text>\n",
       "</svg>\n"
      ]
     },
     "metadata": {}
    }
   ],
   "metadata": {}
  },
  {
   "cell_type": "markdown",
   "source": [
    "## The ```pre``` Element\n",
    "\n",
    "- The ```pre``` element defines preformatted text\n",
    "- Defaults to fixed-width font\n",
    "- Preserves white-space and line breaks\n",
    "\n",
    "See: https://developer.mozilla.org/en-US/docs/Web/HTML/Element/pre"
   ],
   "metadata": {}
  },
  {
   "cell_type": "code",
   "execution_count": 22,
   "source": [
    "%%html\n",
    "\n",
    "<pre>\n",
    "You think you've lost your love\n",
    "    Well, I saw her yesterday-ay\n",
    "        It's you she's thinking of\n",
    "            And she told me what to say-ay\n",
    "            She says she loves you\n",
    "        And you know that can't be bad\n",
    "    Yes, she loves you\n",
    "And you know you should be glad\n",
    "\n",
    "                      -- The Beatles, 1963\n",
    "</pre>"
   ],
   "outputs": [
    {
     "output_type": "display_data",
     "data": {
      "text/plain": [
       "<IPython.core.display.HTML object>"
      ],
      "text/html": [
       "\n",
       "<pre>\n",
       "You think you've lost your love\n",
       "    Well, I saw her yesterday-ay\n",
       "        It's you she's thinking of\n",
       "            And she told me what to say-ay\n",
       "            She says she loves you\n",
       "        And you know that can't be bad\n",
       "    Yes, she loves you\n",
       "And you know you should be glad\n",
       "\n",
       "                      -- The Beatles, 1963\n",
       "</pre>\n"
      ]
     },
     "metadata": {}
    }
   ],
   "metadata": {}
  },
  {
   "cell_type": "markdown",
   "source": [
    "## The ```<table>``` Element\n",
    "\n",
    "See: https://developer.mozilla.org/en-US/docs/Web/HTML/Element/table"
   ],
   "metadata": {}
  },
  {
   "cell_type": "code",
   "execution_count": 23,
   "source": [
    "%%html\n",
    "\n",
    "<table style=\"width:100%\">\n",
    "  <tr>\n",
    "    <th>First Name</th>\n",
    "    <th>Last Name</th>\n",
    "    <th>Age</th>\n",
    "  </tr>\n",
    "  <tr>\n",
    "    <td>Sammy</td>\n",
    "    <td>Danforth</td>\n",
    "    <td>30</td>\n",
    "  </tr>\n",
    "  <tr>\n",
    "    <td>Sally</td>\n",
    "    <td>Simpson</td>\n",
    "    <td>45</td>\n",
    "  </tr>\n",
    "</table>"
   ],
   "outputs": [
    {
     "output_type": "display_data",
     "data": {
      "text/plain": [
       "<IPython.core.display.HTML object>"
      ],
      "text/html": [
       "\n",
       "<table style=\"width:100%\">\n",
       "  <tr>\n",
       "    <th>First Name</th>\n",
       "    <th>Last Name</th>\n",
       "    <th>Age</th>\n",
       "  </tr>\n",
       "  <tr>\n",
       "    <td>Sammy</td>\n",
       "    <td>Danforth</td>\n",
       "    <td>30</td>\n",
       "  </tr>\n",
       "  <tr>\n",
       "    <td>Sally</td>\n",
       "    <td>Simpson</td>\n",
       "    <td>45</td>\n",
       "  </tr>\n",
       "</table>\n"
      ]
     },
     "metadata": {}
    }
   ],
   "metadata": {}
  },
  {
   "cell_type": "markdown",
   "source": [
    "## The ```<output>``` Element\n",
    "- ```<output>``` is a container element into which results of a calculation or the outcome of a user action can be injected\n",
    "- See: https://developer.mozilla.org/en-US/docs/Web/HTML/Element/output\n",
    "\n",
    "### Try It Out: An ```<output>``` Element Example\n",
    "```html\n",
    "<form oninput=\"result.value = parseInt(a.value) + parseInt(b.value)\">\n",
    "  <input type=\"range\" id=\"b\" name=\"b\" value=\"50\" /> +\n",
    "  <input type=\"number\" id=\"a\" name=\"a\" value=\"10\" /> =\n",
    "  <output name=\"result\" for=\"a b\">60</output>\n",
    "</form>\n",
    "```"
   ],
   "metadata": {}
  },
  {
   "cell_type": "markdown",
   "source": [
    "## The ```script``` Element\n",
    "\n",
    "* Embedded JavaScript code\n",
    "```html\n",
    "<script>\n",
    "    // some JavaScript code\n",
    "</script>\n",
    "```\n",
    "* External JavaScript Code (```async``` loads script in background without blocking rest of page)\n",
    "```html\n",
    "<script src=\"somescriptfile.js\" async></script>\n",
    "```\n",
    "\n",
    "### Try It Out: Simple Hello World JavaScript Example\n",
    "\n",
    "```html\n",
    "<!DOCTYPE HTML>\n",
    "<html>\n",
    "<body>\n",
    "  <p>Before the script...</p>\n",
    "  <script>\n",
    "    alert( 'Hello, world!' );\n",
    "  </script>\n",
    "  <p>After the script.</p>\n",
    "</body>\n",
    "</html>\n",
    "```\n",
    "\n",
    "### Try It Out: Slightly More Interesting JavaScript Example\n",
    "\n",
    "```html\n",
    "<!DOCTYPE html>\n",
    "<html>\n",
    "<body>\n",
    "<h3>Slightly More Interesting JavaScript Example</h3>\n",
    "<p>Enter your name and hit Enter in the input field to trigger the button click event.</p>\n",
    "<input id=\"inputName\" autofocus>\n",
    "<button id=\"helloButton\" onclick=\"alert('Hello '+document.getElementById('inputName').value)\">Say Hello</button>\n",
    "<script>\n",
    "  var input = document.getElementById(\"inputName\");\n",
    "  input.addEventListener(\"keyup\", function(event) {\n",
    "    if (event.keyCode === 13) {\n",
    "      event.preventDefault();\n",
    "      document.getElementById(\"helloButton\").click();\n",
    "    }\n",
    "  });\n",
    "</script>\n",
    "</body>\n",
    "</html>\n",
    "```"
   ],
   "metadata": {}
  },
  {
   "cell_type": "markdown",
   "source": [
    "## Event Handeling\n",
    "\n",
    "There are many events that you can handle in JavaScript:\n",
    "\n",
    "See: https://developer.mozilla.org/en-US/docs/Web/Events\n",
    "\n",
    "- ```load``` - https://developer.mozilla.org/en-US/docs/Web/API/Window/load_event\n",
    "- ```focus``` - https://developer.mozilla.org/en-US/docs/Web/API/Element/focus_event\n",
    "- ```blur``` - https://developer.mozilla.org/en-US/docs/Web/API/Element/blur_event\n",
    "- ```click``` - https://developer.mozilla.org/en-US/docs/Web/API/Element/click_event\n",
    "- ```mousemove``` - https://developer.mozilla.org/en-US/docs/Web/API/Element/mousemove_event\n",
    "- ```drag``` - https://developer.mozilla.org/en-US/docs/Web/API/Document/drag_event\n",
    "- ```drag start``` - https://developer.mozilla.org/en-US/docs/Web/API/Document/dragstart_event\n",
    "- ```dragenter``` - https://developer.mozilla.org/en-US/docs/Web/API/Document/dragenter_event\n",
    "- ```dragover``` - https://developer.mozilla.org/en-US/docs/Web/API/Document/dragover_event\n",
    "- ```dragleave``` - https://developer.mozilla.org/en-US/docs/Web/API/Document/dragleave_event\n",
    "- ```dragend``` - https://developer.mozilla.org/en-US/docs/Web/API/Document/dragend_event\n",
    "- ```drop``` - https://developer.mozilla.org/en-US/docs/Web/API/Document/drop_event\n",
    "- ```keydown``` - https://developer.mozilla.org/en-US/docs/Web/API/Document/keydown_event\n",
    "- ```keypress``` - https://developer.mozilla.org/en-US/docs/Web/API/Document/keypress_event\n",
    "- ```keyup``` - https://developer.mozilla.org/en-US/docs/Web/API/Document/keyup_event\n",
    "- ```submit``` - https://developer.mozilla.org/en-US/docs/Web/API/HTMLFormElement/submit_event\n",
    "- ```cut``` - https://developer.mozilla.org/en-US/docs/Web/API/Element/cut_event\n",
    "- ```copy``` - https://developer.mozilla.org/en-US/docs/Web/API/Element/copy_event\n",
    "- ```paste``` - https://developer.mozilla.org/en-US/docs/Web/API/Element/paste_event\n",
    "- and many more..."
   ],
   "metadata": {}
  },
  {
   "cell_type": "code",
   "execution_count": 1,
   "source": [
    "%%html\n",
    "\n",
    "<button type=\"button\" onclick=\"document.getElementById('out').innerHTML = Date()\">Display current date and time.</button>\n",
    "<div id=\"out\"></div>"
   ],
   "outputs": [
    {
     "data": {
      "text/plain": [
       "<IPython.core.display.HTML object>"
      ],
      "text/html": [
       "\n",
       "<button type=\"button\" onclick=\"document.getElementById('out').innerHTML = Date()\">Display current date and time.</button>\n",
       "<div id=\"out\"></div>\n"
      ]
     },
     "metadata": {},
     "output_type": "display_data"
    }
   ],
   "metadata": {}
  },
  {
   "cell_type": "markdown",
   "source": [
    "### Demo: ```mousemove``` Event Drawing Example\n",
    "\n",
    "See Event Drawing (CodePen) Example: https://codepen.io/peterteach/pen/NWRPLBy"
   ],
   "metadata": {}
  },
  {
   "cell_type": "markdown",
   "source": [
    "## HTML Element Summary\n",
    "\n",
    "**HTML Element Categories**\n",
    "- **Structural**: ```<html>```, ```<base>```, ```<head>```, ```<link>```, ```<meta>```, ```<style>```, ```<title>```, ```<body>```\n",
    "- **Sectioning**: ```<header>```, ```<footer>```, ```<article>```, ```<section>```, ```<nav>```, ```<h1>```...```<h6>```, etc.\n",
    "- **Content**: ```<lists>```, ```<a>```, ```<button>```\n",
    "- **Forms**: ```<input>```, ```<form>```, ```<submit>```\n",
    "- **Media**: ```<audio>```, ```<video>```, ```<img>```\n",
    "\n",
    "**Structural Category Elements**\n",
    "- See: https://developer.mozilla.org/en-US/docs/Web/HTML/Element#Main_root\n",
    "- ```<html>``` Represents root (top-level element) of the document\n",
    "- ```<base>``` Base URL to use relative URLs in the document\n",
    "- ```<head>``` Machine-readable metadata about the document (title, scripts, style sheets)\n",
    "- ```<link>``` External resource link (CSS, favicon, etc.)\n",
    "- ```<meta>``` Metadata elements, such as ```base```, ```link```, ```script```, ```style```, and ```title```\n",
    "- ```<style>``` Style rules for the document\n",
    "- ```<title>``` Document title shown in browser title bar or page tab\n",
    "- ```<body>``` Contains content of document\n",
    "\n",
    "**Sectioning Category Elements**\n",
    "- See: https://developer.mozilla.org/en-US/docs/Web/HTML/Element#Content_sectioning\n",
    "- ```<header>```\tContains navigation links, heading elements, banner image, a search box, author name\n",
    "- ```<footer>``` Footer for nearest sectioning content or sectioning root element\n",
    "- ```<article>``` Self-contained article\n",
    "- ```<section>``` Standalone section that does not have a more specific semantic element to represent it\n",
    "- ```<nav>``` Provides navigation links\n",
    "- ```<address>``` Contains contact information for person or organization\n",
    "- ```<aside>``` Content that is only indirectly related to main content\n",
    "- ```<hgroup>``` Heading that groups a set of ```<h1>```–```<h6>``` elements\n",
    "- ```<main>``` Dominant content of body that is directly related to or expands on central topic\n",
    "- ```<h1>```, ```<h2>```, ```<h3>```, ```<h4>```, ```<h5>```, ```<h6>``` Headings Levels\n",
    "\n",
    "**Content, Form, and Media Category Elements**\n",
    "- **Text Content**: See: https://developer.mozilla.org/en-US/docs/Web/HTML/Element#Text_content\n",
    "- **Inline text semantics**: See: https://developer.mozilla.org/en-US/docs/Web/HTML/Element#Inline_text_semantics\n",
    "- **Image and multimedia**: See: https://developer.mozilla.org/en-US/docs/Web/HTML/Element#Inline_text_semantics\n",
    "- **Embedded content**: https://developer.mozilla.org/en-US/docs/Web/HTML/Element#Embedded_content\n",
    "- **Scripting**: https://developer.mozilla.org/en-US/docs/Web/HTML/Element#Scripting\n",
    "- **Demarcating edits**: https://developer.mozilla.org/en-US/docs/Web/HTML/Element#Demarcating_edits\n",
    "- **Table content**: https://developer.mozilla.org/en-US/docs/Web/HTML/Element#Table_content\n",
    "- **Forms**: https://developer.mozilla.org/en-US/docs/Web/HTML/Element#Forms\n",
    "- **Interactive elements**: https://developer.mozilla.org/en-US/docs/Web/HTML/Element#Interactive_elements\n",
    "- **Web Components**: https://developer.mozilla.org/en-US/docs/Web/HTML/Element#Web_Components\n"
   ],
   "metadata": {}
  },
  {
   "cell_type": "markdown",
   "source": [
    "## Try It Out: HTML CheatSheets and Generators\n",
    "\n",
    "- https://webcode.tools/html-generator\n",
    "- https://html-css-js.com/html\n",
    "- https://html-css-js.com/html/generator\n",
    "- https://htmlcheatsheet.com\n",
    "- Many more"
   ],
   "metadata": {}
  },
  {
   "cell_type": "markdown",
   "source": [
    "## Learning Resources\n",
    "\n",
    "- MDN Web Docs: https://developer.mozilla.org/en-US/docs/Web\n",
    "- MDN Structuring the web with HTML: https://developer.mozilla.org/en-US/docs/Learn/HTML\n",
    "- DevDocs.io: https://devdocs.io\n",
    "- Learn HTML: https://www.learn-html.org\n",
    "- W3Schools: https://www.w3schools.com/html\n",
    "- 35+ HTML & CSS Resources for Beginners: https://medium.com/level-up-web/30-html-css-resources-for-beginners-4e4d0af4b44b\n",
    "- W3C HTML 5.2 W3C Recommendation: https://www.w3.org/TR/html52"
   ],
   "metadata": {}
  },
  {
   "cell_type": "markdown",
   "source": [
    "## Online HTML Playgrounds\n",
    "- [CodePen](https://codepen.io)\n",
    "- [CodeSandbox](http://codesandbox.io)\n",
    "- [StackBlitz](https://stackblitz.com/)\n",
    "- [JS Fiddle](https://jsfiddle.net)\n",
    "- [JS BIN](https://jsbin.com)\n",
    "- [Scrimba](https://scrimba.com)\n",
    "- [Liveweaver](https://liveweave.com)\n",
    "- [PlayCode](https://playcode.io)\n",
    "- [Plunker](http://plnkr.co)"
   ],
   "metadata": {}
  },
  {
   "cell_type": "markdown",
   "source": [
    "### WebGL\n",
    "* [A basic 2D WebGL animation example](https://developer.mozilla.org/en-US/docs/Web/API/WebGL_API/Basic_2D_animation_example)\n",
    "* [WebGL by example](https://developer.mozilla.org/en-US/docs/Web/API/WebGL_API/By_example)\n"
   ],
   "metadata": {}
  },
  {
   "cell_type": "markdown",
   "source": [
    "## Some Demos from the Web\n",
    "\n",
    "- Tic-Tac-Toe (codepen.io): https://codepen.io/tag/tic-tac-toe\n",
    "- Bouncing Balls (MDN): https://codepen.io/peterteach/pen/VwKvbve\n",
    "- Phaser: https://phaser.io/examples\n",
    "- Babylon.js: https://www.babylonjs.com/games\n",
    "- Three.js: https://threejs.org\n",
    "- p5js: https://p5js.org/examples"
   ],
   "metadata": {}
  },
  {
   "cell_type": "markdown",
   "source": [
    "## Homework: HTML\n",
    "\n",
    "- Install Anaconda: https://docs.anaconda.com/anaconda/install and open the Jupyter Notebooks in this course\n",
    "- Try using the ```%%html``` magic command in a Jupyter Notebook cell\n",
    "\n",
    "Experiment with the many HTML learning resources available on the web, such as:\n",
    "\n",
    "- https://developer.mozilla.org/en-US/docs/Learn/Getting_started_with_the_web/HTML_basics\n",
    "- https://www.youtube.com/watch?v=qz0aGYrrlhU"
   ],
   "metadata": {}
  }
 ],
 "metadata": {
  "kernelspec": {
   "display_name": "Python 3",
   "language": "python",
   "name": "python3"
  },
  "language_info": {
   "codemirror_mode": {
    "name": "ipython",
    "version": 3
   },
   "file_extension": ".py",
   "mimetype": "text/x-python",
   "name": "python",
   "nbconvert_exporter": "python",
   "pygments_lexer": "ipython3",
   "version": "3.8.5"
  }
 },
 "nbformat": 4,
 "nbformat_minor": 4
}