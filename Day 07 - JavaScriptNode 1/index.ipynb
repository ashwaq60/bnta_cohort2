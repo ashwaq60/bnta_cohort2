{
 "metadata": {
  "language_info": {
   "codemirror_mode": {
    "name": "ipython",
    "version": 3
   },
   "file_extension": ".py",
   "mimetype": "text/x-python",
   "name": "python",
   "nbconvert_exporter": "python",
   "pygments_lexer": "ipython3",
   "version": 3
  },
  "orig_nbformat": 2
 },
 "nbformat": 4,
 "nbformat_minor": 2,
 "cells": [
  {
   "cell_type": "markdown",
   "source": [
    "# Javascript 1 ~ 1/3\n",
    "\n",
    "- Getting Started\n",
    "- NodeJS\n",
    "- NodeJS and NPM\n",
    "- Fundamental syntax\n",
    "- Data types variables\n",
    "- Operator Expressions\n"
   ],
   "metadata": {}
  },
  {
   "cell_type": "markdown",
   "source": [],
   "metadata": {}
  }
 ]
}