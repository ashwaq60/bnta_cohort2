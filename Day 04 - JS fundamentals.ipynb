{
 "cells": [
  {
   "cell_type": "markdown",
   "source": [
    "#  JavaScript\n",
    "\n",
    "JavaScript is the standard programming language used for implementing Web page behavior. JavaScript is used together with HTML (Hypertext Markup Language) and CSS (Cascading Style Sheets) to provide dynamic web page content. The browser implements a JavaScript runtime environment, known as an interpreter, that loads and dynamically executes JavaScript code.\n",
    "\n",
    "- Brendan Eich created the JavaScript language in 1995: https://en.wikipedia.org/wiki/Brendan_Eich\n",
    "- Ryan Dahl developed the Node.js JavaScript runtime: https://en.wikipedia.org/wiki/Ryan_Dahl\n",
    "- Less tidy and less consistent than most other popular programming languages due to convoluted revision history"
   ],
   "metadata": {}
  },
  {
   "cell_type": "markdown",
   "source": [
    "## Setup JavaScript in Visual Studio Code\n",
    "\n",
    "- Ensure that **Node.JS** has already installed\n",
    "- Download and Install **Visual Studio Code** accepting all default options: https://code.visualstudio.com\n",
    "\n",
    "## Run JavaScript Directly at Node Prompt\n",
    "\n",
    "- Execute JavaScript interactively at the Node command prompt\n",
    "- Execute a JavaScript file at the Node command prompt\n",
    "\n",
    "## Online JavaScript Interpreter ```repl.it```\n",
    "\n",
    "- No pervious installation requirements\n",
    "- https://repl.it/languages/javascript"
   ],
   "metadata": {}
  },
  {
   "cell_type": "markdown",
   "source": [
    "## Topics\n",
    "\n",
    "- JavaScript APIs\n",
    "  - ```console``` (Built-In Module)\n",
    "  - ```readline``` (Module)\n",
    "  - ```setTimeout()``` and ```clearTimeout()``` Methods\n",
    "  - ```setInterval()``` and ```clearInterval()``` Methods\n",
    "  - ```Window.alert()``` Method\n",
    "  - ```Window.prompt()``` Method\n",
    "  - ```Window.confirm()``` Method\n",
    "  - ```Document.getElementById()``` Method\n",
    "  - ```Document.getElementById()```\n",
    "  - ```Document.getElementsByName()```\n",
    "  - ```Document.querySelector()```\n",
    "  - ```Document.body.appendChild()``` Method\n",
    "  - ```Window.focus``` and ```Window.blur``` Events\n",
    "  - ```HTMLCanvasElement.getContext()``` Method\n",
    "  - Much more... See: https://developer.mozilla.org/en-US/docs/Web/API\n",
    "- JavaScript Syntax\n",
    "  - Keywords\n",
    "  - Comments\n",
    "  - Variables and scope\n",
    "  - Data types\n",
    "  - Operators and Expressions\n",
    "  - Type Conversions\n",
    "  - Numbers\n",
    "  - Strings\n",
    "  - Arrays\n",
    "  - Comparisons\n",
    "  - Conditionals: ```if```, ```else```, and the ```?:``` Operator\n",
    "  - Loops: ```while``` and ```for```\n",
    "  - The ```switch``` statement\n",
    "  - Functions\n",
    "  - Function expressions\n",
    "  - Arrow functions\n",
    "  - Destructuring assignment\n",
    "  - Objects and Classes\n",
    "  - Errors\n",
    "  - Modules\n",
    "  - Promises\n",
    "  - Much more... See: https://developer.mozilla.org/en-US/docs/Web/JavaScript"
   ],
   "metadata": {}
  },
  {
   "cell_type": "markdown",
   "source": [
    "## Documentation\n",
    "\n",
    "- ECMA-262: https://www.ecma-international.org/publications/standards/Ecma-262.htm\n",
    "- MDN JavaScript Reference: https://developer.mozilla.org/en-US/docs/Web/JavaScript/Reference\n",
    "- Browser Feature Compatibility: http://caniuse.com\n",
    "- Google JavaScript Style Guide: https://google.github.io/styleguide/jsguide.html"
   ],
   "metadata": {}
  },
  {
   "cell_type": "markdown",
   "source": [
    "## Chrome DevTools\n",
    "\n",
    "- https://developers.google.com/web/tools/chrome-devtools/javascript"
   ],
   "metadata": {}
  },
  {
   "cell_type": "markdown",
   "source": [
    "## ```console``` Built-In Module\n",
    "- ```console.assert``` prints error to console if expression evaluates false\n",
    "- ```console.error()``` prints object to console formatted as an error\n",
    "- ```console.log()``` prints text message to console\n",
    "- ```console.clear()``` \n",
    "- ```console.table()``` logs an array of objects as a table to console\n",
    "- ```console.time()``` and ```console.timeEnd()``` for printing elapsed time to console\n",
    "- ```console.trace()``` prints a stack trace to console\n",
    "- ```console.warn()``` prints a warning to console\n",
    "- etc.\n",
    "\n",
    "---\n",
    "- See: https://developer.mozilla.org/en-US/docs/Web/API/Console/log\n",
    "- See https://developers.google.com/web/tools/chrome-devtools/console/api#consoledirobject"
   ],
   "metadata": {}
  },
  {
   "cell_type": "code",
   "execution_count": 2,
   "source": [
    "// console.assert() prints error to console if expression evaluates false\n",
    "console.assert(3==3);\n",
    "console.assert(3==4);"
   ],
   "outputs": [
    {
     "output_type": "stream",
     "name": "stderr",
     "text": [
      "Assertion failed\n"
     ]
    }
   ],
   "metadata": {}
  },
  {
   "cell_type": "code",
   "execution_count": 3,
   "source": [
    "// console.error() prints object to console formatted as an error\n",
    "console.error(\"Ooops!\");"
   ],
   "outputs": [
    {
     "output_type": "stream",
     "name": "stderr",
     "text": [
      "Ooops!\n"
     ]
    }
   ],
   "metadata": {}
  },
  {
   "cell_type": "code",
   "execution_count": 4,
   "source": [
    "// console.log() prints text message to console\n",
    "console.log(\"Hello, World!\")\n",
    "var foo = 42;\n",
    "console.log(foo);\n",
    "var firstName = 'Isaac';\n",
    "var lastName = 'Newton';\n",
    "console.log(\"First:\", firstName, \"Last:\", lastName);"
   ],
   "outputs": [
    {
     "output_type": "stream",
     "name": "stdout",
     "text": [
      "Hello, World!\n",
      "42\n",
      "First: Isaac Last: Newton\n"
     ]
    }
   ],
   "metadata": {}
  },
  {
   "cell_type": "code",
   "execution_count": 5,
   "source": [
    "// console.table() logs an array of objects as a table to console\n",
    "console.table([\n",
    "  {\n",
    "    first: 'René',\n",
    "    last: 'Magritte',\n",
    "  },\n",
    "  {\n",
    "    first: 'Chaim',\n",
    "    last: 'Soutine',\n",
    "    birthday: '18930113',\n",
    "  },\n",
    "  {\n",
    "    first: 'Henri',\n",
    "    last: 'Matisse',\n",
    "  }\n",
    "]);"
   ],
   "outputs": [
    {
     "output_type": "stream",
     "name": "stdout",
     "text": [
      "┌─────────┬─────────┬────────────┬────────────┐\n",
      "│ (index) │  first  │    last    │  birthday  │\n",
      "├─────────┼─────────┼────────────┼────────────┤\n",
      "│    0    │ 'René'  │ 'Magritte' │            │\n",
      "│    1    │ 'Chaim' │ 'Soutine'  │ '18930113' │\n",
      "│    2    │ 'Henri' │ 'Matisse'  │            │\n",
      "└─────────┴─────────┴────────────┴────────────┘\n"
     ]
    }
   ],
   "metadata": {}
  },
  {
   "cell_type": "code",
   "execution_count": 6,
   "source": [
    "//console.time() and console.timeEnd() starts and stops timer and prints elapsed time to console\n",
    "console.time();\n",
    "for (var i = 0; i < 100000; i++) {\n",
    "  let square = i ** 2;\n",
    "}\n",
    "console.timeEnd();"
   ],
   "outputs": [
    {
     "output_type": "stream",
     "name": "stdout",
     "text": [
      "default: 1.287ms\n"
     ]
    }
   ],
   "metadata": {}
  },
  {
   "cell_type": "code",
   "execution_count": 7,
   "source": [
    "// console.trace() prints a stack trace to console\n",
    "const first = () => { second(); };\n",
    "const second = () => { third(); };\n",
    "const third = () => { fourth(); };\n",
    "const fourth = () => { console.trace(); };\n",
    "first();"
   ],
   "outputs": [
    {
     "output_type": "stream",
     "name": "stderr",
     "text": [
      "Trace\n",
      "    at fourth (evalmachine.<anonymous>:5:32)\n",
      "    at third (evalmachine.<anonymous>:4:23)\n",
      "    at second (evalmachine.<anonymous>:3:24)\n",
      "    at first (evalmachine.<anonymous>:2:23)\n",
      "    at evalmachine.<anonymous>:6:1\n",
      "    at Script.runInThisContext (vm.js:96:20)\n",
      "    at Object.runInThisContext (vm.js:303:38)\n",
      "    at run ([eval]:1054:15)\n",
      "    at onRunRequest ([eval]:888:18)\n",
      "    at onMessage ([eval]:848:13)\n"
     ]
    }
   ],
   "metadata": {}
  },
  {
   "cell_type": "code",
   "execution_count": 8,
   "source": [
    "// console.warn() prints a warning to console\n",
    "console.warn('This is a warning!');"
   ],
   "outputs": [
    {
     "output_type": "stream",
     "name": "stderr",
     "text": [
      "This is a warning!\n"
     ]
    }
   ],
   "metadata": {}
  },
  {
   "cell_type": "markdown",
   "source": [
    "## ```readline``` Module\n",
    "\n",
    "### Try It Out: Node.js ```readline``` Module: Read ```stdin```\n",
    "\n",
    "- Node (not browser)\n",
    "- See: https://nodejs.org/api/readline.html\n",
    "\n",
    "```JavaScript\n",
    "// Reading keyboard input with readline\n",
    "const readline = require('readline').createInterface({\n",
    "  input: process.stdin,\n",
    "  output: process.stdout\n",
    "});\n",
    "readline.question('What is your name?', name => {\n",
    "  console.log(`Hello ${name}!`);\n",
    "  readline.close();\n",
    "});\n",
    "```\n",
    "\n",
    "- See: https://repl.it/@peterteach/DarlingThornyStaff"
   ],
   "metadata": {}
  },
  {
   "cell_type": "markdown",
   "source": [
    "### Try It Out: Node.js ```readline``` Module: Read ```file```\n",
    "\n",
    "```JavaScript\n",
    "const fs = require('fs');\n",
    "const readline = require('readline');\n",
    "const stream = require('stream');\n",
    "function readLines({ input }) {\n",
    "  const output = new stream.PassThrough({ objectMode: true });\n",
    "  const rl = readline.createInterface({ input });\n",
    "  rl.on(\"line\", line => { \n",
    "    output.write(line);\n",
    "  });\n",
    "  rl.on(\"close\", () => {\n",
    "    output.push(null);\n",
    "  });\n",
    "  return output;\n",
    "}\n",
    "const input = fs.createReadStream(\"./index.js\"); // this JS file!\n",
    "(async () => {\n",
    "  lineNum = 1;\n",
    "  for await (const line of readLines({ input })) {\n",
    "    console.log(lineNum++ + \". \" +line);\n",
    "  }\n",
    "})();\n",
    "```\n",
    "\n",
    "See: https://repl.it/@peterteach/InferiorAlarmingAmoeba"
   ],
   "metadata": {}
  },
  {
   "cell_type": "markdown",
   "source": [
    "## The DOM API\n",
    "\n",
    "The DOM (Document Object Model) is a logical in-memory tree data structure that enables JavaScript to access and dynamically manipulate HTML page document content. The nodes in this document tree can have events that are handled in JavaScript code. When such an event is triggered, the associated JavaScript event handler is executed as a callback.\n",
    "\n",
    "The ```Document``` interface represents the current page rendered in the browser, It provides programmatic access to the elements in the DOM tree, which encapsulate HTML elements such as ```<body>```, ```div```, ```p```, ```<table>```, etc.\n",
    "\n",
    "### The DOM API Methods\n",
    "\n",
    "- ```Document.body.appendChild()``` adds node to end of list of children of specified parent node in DOM\n",
    "- ```Document.getElementsByClassName()``` returns a list of elements with the given class name\n",
    "- ```Document.getElementsByTagName())``` returns a list of elements with the given tag name\n",
    "- ```Document.getElementById(String id))``` returns an object reference to the identified element\n",
    "- ```Document.querySelector())``` returns first Element node in document, in document order, that matches selectors\n",
    "- ```Document.querySelectorAll()``` returns list of all Element nodes in document that match selectors\n",
    "- ```Document.createElement()```creates new element with given tag name\n",
    "- ```Document.write()``` writes text in document\n",
    "- ```Document.writeln()``` writes line of text in document\n",
    "- **Many more**... see: https://developer.mozilla.org/en-US/docs/Web/API/Document\n",
    "\n",
    "### The DOM API Events\n",
    "- ```drag``` event fires every few hundred milliseconds as element or text selection is dragged by user\n",
    "- ```dragend``` event fires when drag operation is being ended (by releasing mouse button or hitting escape key)\n",
    "- ```dragenter``` event fires when a dragged element or text selection enters a valid drop target\n",
    "- ```dragleave``` event fires when a dragged element or text selection leaves a valid drop target\n",
    "- ```dragover``` event fires when element or text is dragged over valid drop target (every few hundred milliseconds)\n",
    "- ```dragstart``` event fires when user starts dragging element or text selection\n",
    "- ```drop``` event fires when  element or text selection is dropped on valid drop target\n",
    "- ```keydown``` event fires when key is pressed\n",
    "- ```keypress``` event fires when key that produces character value is pressed down\n",
    "- ```keyup``` event fires when key is released\n",
    "- **Many more**... see: https://developer.mozilla.org/en-US/docs/Web/API/Document\n",
    "\n",
    "### Try It Out: DOM ```appendChild()``` Method\n",
    "\n",
    "JavaScript:\n",
    "\n",
    "```javascript\n",
    "var element = document.createElement('p');\n",
    "element.textContent = \"Hello, World\";\n",
    "document.body.appendChild(element);\n",
    "```\n",
    "\n",
    "HTML:\n",
    "\n",
    "```html\n",
    "<button onclick=\"setTimeout(myFunction, 1000);\">Click Me!</button>\n",
    "```\n",
    "\n",
    "See: https://codepen.io/peterteach/pen/eYdgLGo"
   ],
   "metadata": {}
  },
  {
   "cell_type": "markdown",
   "source": [
    "### Try It Out: Window ```setTimeout()``` and ```alert()``` Methods\n",
    "\n",
    "JavaScript:\n",
    "\n",
    "```javascript\n",
    "function displayAlert() {\n",
    "  window.alert(\"Hello World\"); // window is the global object so you could just call alert(\"Hello World\")\n",
    "}\n",
    "```\n",
    "\n",
    "HTML:\n",
    "\n",
    "```html\n",
    "<button onclick=\"setTimeout(displayAlert, 1000);\">Click Me!</button>\n",
    "```\n",
    "\n",
    "See: https://codepen.io/peterteach/pen/xxEgaYb"
   ],
   "metadata": {}
  },
  {
   "cell_type": "markdown",
   "source": [
    "### Try It Out: Window ```setInterval()``` Method\n",
    "\n",
    "https://www.javascripttutorial.net/javascript-bom/javascript-setinterval\n",
    "\n",
    "---\n",
    "### Try It Out: Basic Animation Examples\n",
    "\n",
    "- https://developer.mozilla.org/en-US/docs/Web/API/Canvas_API/Tutorial/Basic_animations\n",
    "  - Animated Solar System: https://codepen.io/peterteach/pen/gOwxpPL\n",
    "  - Animated Clock: https://codepen.io/peterteach/pen/RwGZPGR\n",
    "  - Looping Panorama\n",
    "  - Mouse Following Animation\n",
    "  - Snake Game\n",
    "\n",
    "---\n",
    "### Try It Out: Advanced Animation Example\n",
    "\n",
    "- https://developer.mozilla.org/en-US/docs/Web/API/Canvas_API/Tutorial/Advanced_animations"
   ],
   "metadata": {}
  },
  {
   "cell_type": "markdown",
   "source": [
    "## Browser JavaScript\n",
    "\n",
    "JavaScript in the web browser runs in a different environment form Node.js on the server. The browser provides access to many APIs that do not exist in the Node environment.\n",
    "\n",
    "- Access to **DOM APIs**: Document interface\n",
    "  - See: https://developer.mozilla.org/en-US/docs/Web/API/Document\n",
    "- Access to **AJAX APIs**: XMLHttpRequest, Fetch API, jQuery, etc.\n",
    "  - See: https://developer.mozilla.org/en-US/docs/Web/API/XMLHttpRequest\n",
    "  - See: https://developer.mozilla.org/en-US/docs/Web/API/Fetch_API\n",
    "- Access to **Web APIs**:  Canvas, WebGL, Audio, Video, IndexedDB, Geolocation, Storage, etc.\n",
    "  - See: https://developer.mozilla.org/en-US/docs/Web/API"
   ],
   "metadata": {}
  },
  {
   "cell_type": "markdown",
   "source": [
    "### Try It Out: Window ```prompt()``` and ```console.log()``` Methods\n",
    "\n",
    "JavaScript:\n",
    "\n",
    "```javascript\n",
    "function promptName () {\n",
    "  var name = prompt(\"Who are you?\");\n",
    "  console.log('Hello', name);\n",
    "}\n",
    "```\n",
    "\n",
    "HTML:\n",
    "\n",
    "```html\n",
    "<h1>Open F12 console window to see output:</h1>\n",
    "<button onclick=\"promptName();\">Click Me!</button>\n",
    "```\n",
    "\n",
    "See: https://codepen.io/peterteach/pen/abmpaKz"
   ],
   "metadata": {}
  },
  {
   "cell_type": "markdown",
   "source": [
    "## Try It Out: Window ```confirm()``` Method\n",
    "\n",
    "See: https://developer.mozilla.org/en-US/docs/Web/API/Window/confirm\n",
    "\n",
    "```JavaScript\n",
    "<!DOCTYPE html>\n",
    "<html>\n",
    "<body>\n",
    "<button onclick=\"openBBC()\">Open BBC</button>\n",
    "<script>\n",
    "  function openBBC() {\n",
    "    if (window.confirm(\"Do you really want to open BBC?\")) {\n",
    "    window.open(\"https://www.bbc.com\");\n",
    "  }\n",
    "}\n",
    "</script>\n",
    "</body>\n",
    "</html>\n",
    "```\n",
    "\n",
    "See: https://codepen.io/peterteach/pen/dypdQmb"
   ],
   "metadata": {}
  },
  {
   "cell_type": "markdown",
   "source": [
    "## Try It Out: ```document.getElementById()``` and ```canvas.getContext()``` Methods\n",
    "\n",
    "JavaScript:\n",
    "\n",
    "```javascript\n",
    "var canvas = document.getElementById(\"myCanvas\");\n",
    "var ctx = canvas.getContext(\"2d\");\n",
    "ctx.moveTo(0,0);\n",
    "ctx.lineTo(400,400);\n",
    "ctx.stroke();\n",
    "ctx.font = '30px Cursive';\n",
    "ctx.fillText(\"Hello world!\", 50, 50);\n",
    "```\n",
    "\n",
    "HTML:\n",
    "\n",
    "```html\n",
    "<canvas id=\"myCanvas\" width=\"400\" height=\"400\" style=\"border:1px solid #d3d3d3;\">\n",
    "Your browser does not support the HTML canvas tag.</canvas>\n",
    "```\n",
    "\n",
    "See: https://codepen.io/peterteach/pen/vYXgzQZ"
   ],
   "metadata": {}
  },
  {
   "cell_type": "markdown",
   "source": [
    "## Try It Out: ```XmlHttpRequest``` Object: AJAX\n",
    "\n",
    "HTML:\n",
    "\n",
    "```JavaScript\n",
    "<!DOCTYPE html>\n",
    "<html>\n",
    "<head>\n",
    "<link rel=\"stylesheet\"\n",
    "  href=\"https://cdn.jsdelivr.net/npm/bootstrap@4.5.3/dist/css/bootstrap.min.css\"\n",
    "  integrity=\"sha384-TX8t27EcRE3e/ihU7zmQxVncDAy5uIKz4rEkgIXeMed4M0jlfIDPvg6uqKI2xXr2\"\n",
    "  crossorigin=\"anonymous\">\n",
    "</head>\n",
    "<body>\n",
    "<div id=\"results\">\n",
    "  <h1>XMLHttpRequest</h1>\n",
    "  <button type=\"button\" onclick=\"loadDoc()\">Get London Weather</button>\n",
    "</div>\n",
    "<script>\n",
    "function loadDoc() {\n",
    "  var xhttp = new XMLHttpRequest();\n",
    "  xhttp.onreadystatechange = function() {\n",
    "    if (this.readyState == 4 && this.status == 200) {\n",
    "      document.getElementById(\"results\").innerHTML = this.responseText;\n",
    "    }\n",
    "  };\n",
    "  const api_host = \"https://www.metaweather.com/44418/\";\n",
    "  xhttp.open(\"GET\", \"https://cors-anywhere.herokuapp.com/\" + api_host, true);\n",
    "  xhttp.send();\n",
    "}\n",
    "</script>\n",
    "</body>\n",
    "</html>\n",
    "```\n",
    "\n",
    "See: https://codepen.io/peterteach/pen/GRjEVQR (if **CORS too many requests error** then just try in in a desktop html file)"
   ],
   "metadata": {}
  },
  {
   "cell_type": "markdown",
   "source": [
    "## The JavaScript Language"
   ],
   "metadata": {}
  },
  {
   "cell_type": "markdown",
   "source": [
    "### Keywords\n",
    "\n",
    "See\" https://developer.mozilla.org/en-US/docs/Web/JavaScript/Reference/Lexical_grammar#Keywords\n",
    "\n",
    "- ```break```\n",
    "- ```case```\n",
    "- ```catch```\n",
    "- ```class```\n",
    "- ```const```\n",
    "- ```continue```\n",
    "- ```debugger```\n",
    "- ```default```\n",
    "- ```delete```\n",
    "- ```do```\n",
    "- ```else```\n",
    "- ```export```\n",
    "- ```extends```\n",
    "- ```finally```\n",
    "- ```for```\n",
    "- ```function```\n",
    "- ```if```\n",
    "- ```import```\n",
    "- ```in```\n",
    "- ```instanceof```\n",
    "- ```new```\n",
    "- ```return```\n",
    "- ```super```\n",
    "- ```switch```\n",
    "- ```this```\n",
    "- ```throw```\n",
    "- ```try```\n",
    "- ```typeof```\n",
    "- ```var```\n",
    "- ```void```\n",
    "- ```while```\n",
    "- ```with```\n",
    "- ```yield```"
   ],
   "metadata": {}
  },
  {
   "cell_type": "markdown",
   "source": [
    "### Comments\n",
    "\n",
    "- Comments can be single-line: starting with ```//```, or multiline delimited by: ```/* ... */```\n",
    "- Used to describe how and why the code works\n",
    "- Ignored by the runtime interpreter"
   ],
   "metadata": {}
  },
  {
   "cell_type": "code",
   "execution_count": 46,
   "source": [
    "/* multiline comment */\n",
    "/* another\n",
    "   multiline comment */\n",
    "// single line comment\n",
    "x = 3 + 4 // // another single line comment"
   ],
   "outputs": [
    {
     "output_type": "execute_result",
     "data": {
      "text/plain": [
       "7"
      ]
     },
     "metadata": {},
     "execution_count": 46
    }
   ],
   "metadata": {}
  },
  {
   "cell_type": "markdown",
   "source": [
    "### Variables\n",
    "\n",
    "- A variable is a named storage location in memory that contains a value that code can read and write\n",
    "- Variables are defined dynamically at run time as code executes (data type is not static and they can be deleted)\n",
    "- Traditional (sloppy) JavaScript declared variables using the ```var``` keyword (no longer recommended)\n",
    "- The ```var``` keyword suffers from an effect known as \"hoisting\" (global scope of function scope but no block scope)\n",
    "- It is now best practice to use the ```let``` or ```const``` keyword instead of the problematic ```var``` keyword\n",
    "- The ```let``` keyword declares a block scoped named variable (mutable) without hoisting\n",
    "- The ```const``` keyword declares a block scoped named constant (immutable) without hoisting"
   ],
   "metadata": {}
  },
  {
   "cell_type": "code",
   "execution_count": 47,
   "source": [
    "{\n",
    "let greeting;           // declare the variable name in block scope of outer curly brackets\n",
    "greeting = 'Hello';     // store the string\n",
    "console.log(greeting);\n",
    "}"
   ],
   "outputs": [
    {
     "output_type": "stream",
     "name": "stdout",
     "text": [
      "Hello\n"
     ]
    }
   ],
   "metadata": {}
  },
  {
   "cell_type": "markdown",
   "source": [
    "### Try It Out: Difference Between ```var``` and ```let```\n",
    "\n",
    "**Using ```var```** (this works, but only accidently due to hoisting scope)\n",
    "\n",
    "```JavaScript\n",
    "if (Math.sqrt(25) == 5) {\n",
    "  var output = \"true\";\n",
    "} else {\n",
    "  var output = \"false\";\n",
    "}\n",
    "console.log(output) // Outputs true\n",
    "```\n",
    "\n",
    "Output:\n",
    "\n",
    "```\n",
    "true\n",
    "```\n",
    "---\n",
    "\n",
    "**Replacing var with ```let```** (this does not work, due to improper block scope)\n",
    "\n",
    "```JavaScript\n",
    "if (Math.sqrt(25) == 5) {\n",
    "  let output = \"true\";\n",
    "} else {\n",
    "  let output = \"false\";\n",
    "}\n",
    "console.log(output) // results in runtime ReferenceError\n",
    "```\n",
    "\n",
    "Output:\n",
    "\n",
    "```\n",
    "ReferenceError: output is not defined\n",
    "```\n",
    "\n",
    "---\n",
    "\n",
    "**Using ```let``` properly** (this does work, because variable is declared in proper outer scope)\n",
    "```JavaScript\n",
    "let output;\n",
    "if (Math.sqrt(25) == 5) {\n",
    "  output = \"true\";\n",
    "} else {\n",
    "  output = \"false\";\n",
    "}\n",
    "console.log(output) // results in true\n",
    "```"
   ],
   "metadata": {}
  },
  {
   "cell_type": "markdown",
   "source": [
    "### Data types\n",
    "\n",
    "See: https://developer.mozilla.org/en-US/docs/Web/JavaScript/Data_structures\n",
    "\n",
    "- Primitive types\n",
    "  - ```null``` refences nothing currently\n",
    "    - See: https://developer.mozilla.org/en-US/docs/Web/JavaScript/Reference/Global_Objects/null\n",
    "  - ```undefined``` not yet defined\n",
    "    - See: https://developer.mozilla.org/en-US/docs/Web/JavaScript/Reference/Global_Objects/undefined\n",
    "  - ```boolean``` true or false\n",
    "    - See: https://developer.mozilla.org/en-US/docs/Web/JavaScript/Reference/Global_Objects/Boolean\n",
    "  - ```number``` double-precision 64-bit binary format IEEE 754 value (no distinct integer type)\n",
    "    - ```-((2**53)−1)``` to ```+((2**53)−1)```\n",
    "    - ```+Infinity``` (e.g. 1/0)\n",
    "    - ```-Infinity``` (e.g. -1/0)\n",
    "    - ```NaN``` Not a Number (e.g. 0/0)\n",
    "    - See: https://developer.mozilla.org/en-US/docs/Web/JavaScript/Reference/Global_Objects/Number\n",
    "  - ```string``` Unicode character sequence\n",
    "    - See: https://developer.mozilla.org/en-US/docs/Web/JavaScript/Reference/Global_Objects/String\n",
    "  - ```bigint``` represents whole numbers larger than ```Number.MAX_SAFE_INTEGER```\n",
    "    - See: https://developer.mozilla.org/en-US/docs/Web/JavaScript/Reference/Global_Objects/BigInt\n",
    "  - ```symbol``` ```Symbol()```returns unique symbol value that can be use as an object properties identifier\n",
    "    - See: https://developer.mozilla.org/en-US/docs/Web/JavaScript/Reference/Global_Objects/Symbol\n",
    "- Object types\n",
    "  - See: https://developer.mozilla.org/en-US/docs/Web/JavaScript/Reference/Global_Objects/Object\n",
    "  - ```{}``` literal object syntax\n",
    "  - ```class``` and ```new``` Keywords\n",
    "    - See: https://developer.mozilla.org/en-US/docs/Web/JavaScript/Reference/Classes\n",
    "  - ```array``` zero-based integer-indexed list (neither length nor element types are fixed)\n",
    "    - See: https://developer.mozilla.org/en-US/docs/Web/JavaScript/Reference/Global_Objects/Array\n",
    "  - ```map```\n",
    "   - See: https://developer.mozilla.org/en-US/docs/Web/JavaScript/Reference/Global_Objects/Map\n",
    "  - ```set```\n",
    "    - See: https://developer.mozilla.org/en-US/docs/Web/JavaScript/Reference/Global_Objects/Set\n",
    "  - ```weakmap```\n",
    "    - See: https://developer.mozilla.org/en-US/docs/Web/JavaScript/Reference/Global_Objects/WeakMap\n",
    "  - ```weakset```\n",
    "    - See: https://developer.mozilla.org/en-US/docs/Web/JavaScript/Reference/Global_Objects/WeakSet\n",
    "  - ```date```\n",
    "    - See: https://developer.mozilla.org/en-US/docs/Web/JavaScript/Reference/Global_Objects/Date\n",
    "  - ```function``` a callable object\n",
    "    - See: https://developer.mozilla.org/en-US/docs/Web/JavaScript/Reference/Global_Objects/Function"
   ],
   "metadata": {}
  },
  {
   "cell_type": "code",
   "execution_count": 48,
   "source": [
    "{\n",
    "let one_tenth = 1/10;\n",
    "let two_tenths = 2/10;\n",
    "let three_tenths = 2/10;\n",
    "console.log((one_tenth + two_tenths) == three_tenths); // false !!!\n",
    "console.log(one_tenth + two_tenths);                   // See roundoff error\n",
    "}"
   ],
   "outputs": [
    {
     "output_type": "stream",
     "name": "stdout",
     "text": [
      "false\n",
      "0.30000000000000004\n"
     ]
    }
   ],
   "metadata": {}
  },
  {
   "cell_type": "markdown",
   "source": [
    "\n",
    "### Numbers"
   ],
   "metadata": {}
  },
  {
   "cell_type": "code",
   "execution_count": 49,
   "source": [
    "console.log(Math.PI)\n",
    "console.log(Number.MAX_SAFE_INTEGER);\n",
    "console.log((2**53)-1)\n",
    "console.log(Number.MIN_SAFE_INTEGER);\n",
    "console.log(-((2**53)-1))\n",
    "console.log(1/0);\n",
    "console.log(-1/0);\n",
    "console.log(0/0);"
   ],
   "outputs": [
    {
     "output_type": "stream",
     "name": "stdout",
     "text": [
      "3.141592653589793\n",
      "9007199254740991\n",
      "9007199254740991\n",
      "-9007199254740991\n",
      "-9007199254740991\n",
      "Infinity\n",
      "-Infinity\n",
      "NaN\n"
     ]
    }
   ],
   "metadata": {}
  },
  {
   "cell_type": "markdown",
   "source": [
    "### Strings\n",
    "\n",
    "- A string is an immutable Unicode character sequence\n",
    "- String Tutorial: https://javascript.info/string\n",
    "- Creating strings: https://developer.mozilla.org/en-US/docs/Web/JavaScript/Reference/Global_Objects/String#Creating_strings\n",
    "- Character access: https://developer.mozilla.org/en-US/docs/Web/JavaScript/Reference/Global_Objects/String#Character_access\n",
    "- Comparing strings: https://developer.mozilla.org/en-US/docs/Web/JavaScript/Reference/Global_Objects/String#Comparing_strings\n",
    "- String primitives and String objects: https://developer.mozilla.org/en-US/docs/Web/JavaScript/Reference/Global_Objects/String#String_primitives_and_String_objects\n",
    "- Escape notation: https://developer.mozilla.org/en-US/docs/Web/JavaScript/Reference/Global_Objects/String#String_primitives_and_String_objects\n",
    "- Long literal strings: https://developer.mozilla.org/en-US/docs/Web/JavaScript/Reference/Global_Objects/String#Long_literal_strings\n",
    "- Instance methods: https://developer.mozilla.org/en-US/docs/Web/JavaScript/Reference/Global_Objects/String#Instance_methods"
   ],
   "metadata": {}
  },
  {
   "cell_type": "code",
   "execution_count": 50,
   "source": [
    "{\n",
    "let str = \"Hello\";\n",
    "console.log(str[0]);\n",
    "console.log(str[1]);\n",
    "console.log(str[2]);\n",
    "console.log(str[3]);\n",
    "console.log(str[4]);\n",
    "str += \" World!\";\n",
    "console.log(str);\n",
    "}"
   ],
   "outputs": [
    {
     "output_type": "stream",
     "name": "stdout",
     "text": [
      "H\n",
      "e\n",
      "l\n",
      "l\n",
      "o\n",
      "Hello World!\n"
     ]
    }
   ],
   "metadata": {}
  },
  {
   "cell_type": "markdown",
   "source": [
    "### Arrays\n",
    "\n",
    "An array is a heterogonous variable-length mutable sequence of elements accessed using an zero-based integer index."
   ],
   "metadata": {}
  },
  {
   "cell_type": "code",
   "execution_count": 51,
   "source": [
    "{\n",
    "// literal array syntax\n",
    "let greatBritain = [ 'England', 'Scotland', 'Wales'];\n",
    "    \n",
    "console.log(greatBritain.length);                     // 3\n",
    "console.log(greatBritain[1]);                         // Scotland\n",
    "console.log(greatBritain[greatBritain.length - 1])    // Wales\n",
    "    \n",
    "greatBritain.forEach(function(item, index, array) {   // England 0\n",
    "  console.log(item, index);                           // Scotland 1\n",
    "})                                                    // Wales 2\n",
    "\n",
    "unitedKingdom = ['Northern Ireland', ...greatBritain]\n",
    "console.log(greatBritain);                            // [ 'England', 'Scotland', 'Wales' ]\n",
    "console.log(unitedKingdom);                           // [ 'Northern Ireland', 'England', 'Scotland', 'Wales' ]\n",
    "\n",
    "for (i=0; i<greatBritain.length; i++) {  // England\n",
    "    console.log(unitedKingdom[i]);       // Scotland\n",
    "}                                        // Wales\n",
    "}"
   ],
   "outputs": [
    {
     "output_type": "stream",
     "name": "stdout",
     "text": [
      "3\n",
      "Scotland\n",
      "Wales\n",
      "England 0\n",
      "Scotland 1\n",
      "Wales 2\n",
      "[ 'England', 'Scotland', 'Wales' ]\n",
      "[ 'Northern Ireland', 'England', 'Scotland', 'Wales' ]\n",
      "Northern Ireland\n",
      "England\n",
      "Scotland\n"
     ]
    }
   ],
   "metadata": {}
  },
  {
   "cell_type": "markdown",
   "source": [
    "### Objects and Classes\n",
    "\n",
    "- A class is a blueprint or template for creating object instances\n",
    "- A class encapsulates data (state) with code to work on that data (behavior)\n",
    "- A class can be defined using a **class declaration** or a **class expression**\n",
    "- **NOTE**: function declarations are hoisted and class declarations are not hoisted\n",
    "- See: https://developer.mozilla.org/en-US/docs/Web/JavaScript/Reference/Classes"
   ],
   "metadata": {}
  },
  {
   "cell_type": "code",
   "execution_count": 52,
   "source": [
    "{\n",
    "// class declaration\n",
    "class Rectangle {\n",
    "    constructor(height, width) {\n",
    "        this.width = width;\n",
    "        this.height = height;\n",
    "    }\n",
    "    getArea() {\n",
    "        return this.width * this.height;   \n",
    "    }\n",
    "}\n",
    "console.log(Rectangle.name);\n",
    "rect = new Rectangle(10, 20);\n",
    "console.log(rect.getArea());\n",
    "}"
   ],
   "outputs": [
    {
     "output_type": "stream",
     "name": "stdout",
     "text": [
      "Rectangle\n",
      "200\n"
     ]
    }
   ],
   "metadata": {}
  },
  {
   "cell_type": "code",
   "execution_count": 53,
   "source": [
    "{\n",
    "// class expression\n",
    "let Rectangle = class {\n",
    "      constructor(height, width) {\n",
    "          this.height = height;\n",
    "          this.width = width;\n",
    "          this.getArea = () => { return this.width * this.height; }\n",
    "    }\n",
    "};\n",
    "console.log(Rectangle.name);\n",
    "rect = new Rectangle(10, 20);\n",
    "console.log(rect.getArea());\n",
    "}"
   ],
   "outputs": [
    {
     "output_type": "stream",
     "name": "stdout",
     "text": [
      "Rectangle\n",
      "200\n"
     ]
    }
   ],
   "metadata": {}
  },
  {
   "cell_type": "code",
   "execution_count": 54,
   "source": [
    "{\n",
    "// objects are dynamic\n",
    "let x = {};                       // create an empty object\n",
    "console.log(x);                   // {}\n",
    "x.foo = 42;                       // dynamically add a property on an object\n",
    "console.log(x);                   // { foo: 42 }\n",
    "x.foo = \"42\";                     // dynamically change data type and value of a property on a object\n",
    "console.log(x);                   // { foo: '42' }\n",
    "delete x.foo;                     // // dynamically delete a property on a object\n",
    "console.log(x);                   // {}                          \n",
    "}"
   ],
   "outputs": [
    {
     "output_type": "stream",
     "name": "stdout",
     "text": [
      "{}\n",
      "{ foo: 42 }\n",
      "{ foo: '42' }\n",
      "{}\n"
     ]
    }
   ],
   "metadata": {}
  },
  {
   "cell_type": "code",
   "execution_count": 55,
   "source": [
    "{\n",
    "let brilliant = {first: 'Boris', last: 'Johnson'}; // literal object syntax\n",
    "console.log(brilliant);\n",
    "}"
   ],
   "outputs": [
    {
     "output_type": "stream",
     "name": "stdout",
     "text": [
      "{ first: 'Boris', last: 'Johnson' }\n"
     ]
    }
   ],
   "metadata": {}
  },
  {
   "cell_type": "markdown",
   "source": [
    "### Object Prototypes: Inheritance\n",
    "\n",
    "- Inheritance is implemented dynamically by way of a prototype chain\n",
    "- ES6 class syntax hides the ugly details (See ES5 gory details https://hacks.mozilla.org/2015/07/es6-in-depth-classes)"
   ],
   "metadata": {}
  },
  {
   "cell_type": "code",
   "execution_count": 56,
   "source": [
    "{\n",
    "class Pet {\n",
    "    constructor(name) {\n",
    "        this.name = name;                         // all Pets have a name\n",
    "    }\n",
    "    eat() {                                       // all Pets eat\n",
    "        console.log(`${this.name} eats`);\n",
    "    }\n",
    "    sleep() {                                     // all Pets sleep\n",
    "        console.log(`${this.name} sleeps`);\n",
    "    }\n",
    "}\n",
    "\n",
    "class Dog extends Pet {                           // Dog is a kind of Pet\n",
    "    constructor(name) {\n",
    "        super(name);                              // call super class constructor with name\n",
    "    }\n",
    "    doTrick() {                                   // only dogs do tricks\n",
    "        console.log(`${this.name} does trick`);\n",
    "    }\n",
    "}\n",
    "\n",
    "class Cat extends Pet {                           // Cat is a kind of Pet\n",
    "    constructor(name) {\n",
    "        super(name);                              // call super class constructor with name\n",
    "    }\n",
    "    scratchFurniture() {                          // only cats scratch furniture\n",
    "        console.log(`${this.name} scratches furniture`);\n",
    "    }\n",
    "}\n",
    "\n",
    "let winston = new Dog('Winston');\n",
    "console.log(\"Name:\", winston.name);               // Name: Winston\n",
    "winston.eat();                                    // Winston eats\n",
    "winston.sleep();                                  // Winston sleeps\n",
    "winston.doTrick();                                // Winston does trick\n",
    "    \n",
    "let sophie = new Cat('Sophie');\n",
    "console.log(\"Name:\", sophie.name);                // Name: Sophie\n",
    "sophie.eat();                                     // Sophie eats\n",
    "sophie.sleep();                                   // Sophie sleeps\n",
    "sophie.scratchFurniture();                        // Sophie scratches furniture\n",
    "}"
   ],
   "outputs": [
    {
     "output_type": "stream",
     "name": "stdout",
     "text": [
      "Name: Winston\n",
      "Winston eats\n",
      "Winston sleeps\n",
      "Winston does trick\n",
      "Name: Sophie\n",
      "Sophie eats\n",
      "Sophie sleeps\n",
      "Sophie scratches furniture\n"
     ]
    }
   ],
   "metadata": {}
  },
  {
   "cell_type": "markdown",
   "source": [
    "### ```BigInt``` \n",
    "\n",
    "- Represents whole numbers larger than Number.MAX_SAFE_INTEGER\n",
    "- Created by appending ```n``` suffix on integer literal (e.g. ```42n```) or by calling ```BigInt()``` (e.g. ```BigInt(42)```)"
   ],
   "metadata": {}
  },
  {
   "cell_type": "code",
   "execution_count": 57,
   "source": [
    "{\n",
    "let bi = 42n;\n",
    "console.log(bi, typeof(bi));\n",
    "bi = BigInt(42)\n",
    "console.log(bi, typeof(bi));\n",
    "}"
   ],
   "outputs": [
    {
     "output_type": "stream",
     "name": "stdout",
     "text": [
      "42n 'bigint'\n",
      "42n 'bigint'\n"
     ]
    }
   ],
   "metadata": {}
  },
  {
   "cell_type": "code",
   "execution_count": 58,
   "source": [
    "{\n",
    "// See: https://developer.mozilla.org/en-US/docs/Web/JavaScript/Reference/Global_Objects/BigInt#Examples\n",
    "    \n",
    "// return true if BigInt candidatePrime is prime\n",
    "function isPrime(candidatePrime) {\n",
    "   for (let i = 2n; i * i <= candidatePrime; i++) {\n",
    "      if (candidatePrime % i === 0n) return false;\n",
    "   }\n",
    "   return true;\n",
    "}\n",
    "\n",
    "// return nth prime number as BigInt\n",
    "function getNthPrime(nth) {\n",
    "   let candidatePrime = 2n-1n\n",
    "   let prime = 0n\n",
    "   while (nth >= 0n) {\n",
    "      if (isPrime(candidatePrime)) {\n",
    "         nth--;\n",
    "         prime = candidatePrime;\n",
    "      }\n",
    "      candidatePrime++;\n",
    "   }\n",
    "  return prime;\n",
    "}\n",
    "\n",
    "console.log(\"This will take a while, but probably less than a minute on most machines...\");\n",
    "getNthPrime(100000n) // 1299709n\n",
    "}"
   ],
   "outputs": [
    {
     "output_type": "stream",
     "name": "stdout",
     "text": [
      "This will take a while, but probably less than a minute on most machines...\n"
     ]
    },
    {
     "output_type": "execute_result",
     "data": {
      "text/plain": [
       "1299709n"
      ]
     },
     "metadata": {},
     "execution_count": 58
    }
   ],
   "metadata": {}
  },
  {
   "cell_type": "markdown",
   "source": [
    "### Symbols\n",
    "- ```symbol``` is an immutable primitive data type (like string, number, boolean, null and undefined)\n",
    "- Introduced in ECMAScript 2015 (ES6)\n",
    "- value is unique and kept private and for internal JavaScript runtime use\n",
    "- You create a symbol by calling the ```Symbol()``` global factory function\n",
    "- Your code gets a reference to the symbol, but it never directly uses its actual value\n"
   ],
   "metadata": {}
  },
  {
   "cell_type": "code",
   "execution_count": 59,
   "source": [
    "{\n",
    "const mySymbol = Symbol();\n",
    "console.log(mySymbol);                                // Symbol()\n",
    "console.log(Symbol() === Symbol());                   // false    (every symbol is new and unique)\n",
    "\n",
    "const NAME = Symbol();                                // Create a symbol named NAME\n",
    "const person = {                                      // Create an object named person\n",
    "  [NAME]: 'Sally'                                     // Add a property identifier using the symbol named NAME\n",
    "}\n",
    "console.log(person[NAME]) ;                           // Sally    (displays the property via the symbol named NAME)\n",
    "\n",
    "const SMILE = Symbol();                               // Create a symbol named SMILE\n",
    "person[SMILE] = () => person[NAME] + ' is smiling!';  // Create a method using the symbol named SMILE\n",
    "console.log(person[SMILE]()) ;                        // Sally is smiling!\n",
    "}"
   ],
   "outputs": [
    {
     "output_type": "stream",
     "name": "stdout",
     "text": [
      "Symbol()\n",
      "false\n",
      "Sally\n",
      "Sally is smiling!\n"
     ]
    }
   ],
   "metadata": {}
  },
  {
   "cell_type": "markdown",
   "source": [
    "### Maps\n"
   ],
   "metadata": {}
  },
  {
   "cell_type": "code",
   "execution_count": 60,
   "source": [
    "{\n",
    "let people = new Map();\n",
    "console.log(people);                        // Map {}\n",
    "people.set('Joe', {age: 42, weight: 195});\n",
    "console.log(people);                        // Map { 'Joe' => { age: 42, weight: 195 } }\n",
    "console.log(people.has('Joe'));             // true\n",
    "console.log(people.get('Sandy'));           // undefined\n",
    "people.set('Sandy', {age: 36, weight: 95});\n",
    "console.log(people);                        // Map { 'Joe' => { age: 42, weight: 195 },  'Sandy' => { age: 36, weight: 95 } }\n",
    "console.log(people.get('Joe'));             // { age: 42, weight: 195 }\n",
    "console.log(people.delete('Kim'));          // false\n",
    "people.delete('Joe');\n",
    "console.log(people);                        // Map { 'Sandy' => { age: 36, weight: 135 } }\n",
    "console.log(people.size);                   // 1\n",
    "}"
   ],
   "outputs": [
    {
     "output_type": "stream",
     "name": "stdout",
     "text": [
      "Map {}\n",
      "Map { 'Joe' => { age: 42, weight: 195 } }\n",
      "true\n",
      "undefined\n",
      "Map {\n",
      "  'Joe' => { age: 42, weight: 195 },\n",
      "  'Sandy' => { age: 36, weight: 95 } }\n",
      "{ age: 42, weight: 195 }\n",
      "false\n",
      "Map { 'Sandy' => { age: 36, weight: 95 } }\n",
      "1\n"
     ]
    }
   ],
   "metadata": {}
  },
  {
   "cell_type": "markdown",
   "source": [
    "### Sets"
   ],
   "metadata": {}
  },
  {
   "cell_type": "code",
   "execution_count": 61,
   "source": [
    "{\n",
    "let my_set = new Set();\n",
    "console.log(my_set);             // Set {}\n",
    "console.log(my_set.size);        // 0\n",
    "\n",
    "my_set.add(1);                   // Set { 1 }\n",
    "my_set.add(10);                  // Set { 1, 10 }\n",
    "my_set.add(115);                 // Set { 1, 10, 15 }\n",
    "my_set.add('hello');             // Set { 1, 10, 15, \"hello\" }\n",
    "let my_object = {x: 10, y: 20};\n",
    "my_set.add(my_object);           // Set { 1, 10, 115, 'hello', { x: 10, y: 20 } }\n",
    "\n",
    "console.log(my_set);             // 5\n",
    "console.log(my_set.size);        // Set { 1, 10, 115, 'hello', { x: 10, y: 20 } }\n",
    "}"
   ],
   "outputs": [
    {
     "output_type": "stream",
     "name": "stdout",
     "text": [
      "Set {}\n",
      "0\n",
      "Set { 1, 10, 115, 'hello', { x: 10, y: 20 } }\n",
      "5\n"
     ]
    }
   ],
   "metadata": {}
  },
  {
   "cell_type": "markdown",
   "source": [
    "### Dates"
   ],
   "metadata": {}
  },
  {
   "cell_type": "code",
   "execution_count": 62,
   "source": [
    "{\n",
    "let dt = new Date();\n",
    "    \n",
    "console.log(dt.getDate());            // returns day of month (from 1-31)\n",
    "console.log(dt.getDay());             // returns day of week (from 0-6)\n",
    "console.log(dt.getFullYear());        // returns year\n",
    "console.log(dt.getHours());           // returns hour (from 0-23)\n",
    "console.log(dt.getMilliseconds());    // returns milliseconds (from 0-999)\n",
    "console.log(dt.getMinutes());         // returns minutes (from 0-59)\n",
    "console.log(dt.getMonth());           // returns month (from 0-11)\n",
    "console.log(dt.getSeconds());         // returns  seconds (from 0-59)\n",
    "console.log(dt.getTime());            // returns number of milliseconds since midnight Jan 1 1970, and a specified date\n",
    "console.log(dt.getTimezoneOffset());  // returns time difference between UTC time and local time, in minutes\n",
    "console.log(dt.getUTCDate());         // returns day of the month, according to universal time (from 1-31)\n",
    "console.log(dt.getUTCDay());          // returns day of the week, according to universal time (from 0-6)\n",
    "console.log(dt.getUTCFullYear());     // returns t year, according to universal time\n",
    "console.log(dt.getUTCHours());        // returns hour, according to universal time (from 0-23)\n",
    "console.log(dt.getUTCMilliseconds()); // returns milliseconds, according to universal time (from 0-999)\n",
    "console.log(dt.getUTCMinutes());      // returns minutes, according to universal time (from 0-59)\n",
    "console.log(dt.getUTCMonth());        // returns month, according to universal time (from 0-11)\n",
    "console.log(dt.getUTCSeconds());      // returns seconds, according to universal time (from 0-59)\n",
    "    \n",
    "console.log(Date.parse(\"March 21, 2012\"));  // parses date string and returns number of milliseconds since January 1, 1970\n",
    "\n",
    "dt.setDate(12)              // Sets day of month of date object\n",
    "console.log(dt);\n",
    "    \n",
    "dt.setFullYear(1929);       // Sets year of date object\n",
    "console.log(dt);\n",
    "    \n",
    "dt.setHours(3);             // Sets hour of date object\n",
    "console.log(dt);\n",
    "dt.setMilliseconds(234324); // Sets milliseconds of date object\n",
    "console.log(dt);\n",
    "dt.setMinutes(122);         // Sets minutes of date object\n",
    "console.log(dt);\n",
    "dt.setMonth(2);             // Sets month of date object\n",
    "console.log(dt);\n",
    "dt.setSeconds(42);          // Sets seconds of date object\n",
    "console.log(dt);\n",
    "dt.setTime(10000000000);    // Sets date to specified number of milliseconds after/before January 1, 1970\n",
    "console.log(dt);\n",
    "    \n",
    "/*\n",
    "setUTCDate() // Sets day of month of date object, according to universal time\n",
    "setUTCFullYear() // Sets thyear of date object, according to universal time\n",
    "setUTCHours() // Sets hour of date object, according to universal time\n",
    "setUTCMilliseconds() // Sets milliseconds of date object, according to universal time\n",
    "setUTCMinutes() // Set minutes of date object, according to universal time\n",
    "setUTCMonth() // Sets month of date object, according to universal time\n",
    "setUTCSeconds() // Set seconds of date object, according to universal time\n",
    "setYear() // Deprecated. Use setFullYear() method instead\n",
    "toDateString() // Converts date portion of Date object into a readable string\n",
    "toGMTString() // Deprecated. Use toUTCString() method instead\n",
    "toISOString() // Returns date as string, using ISO standard\n",
    "toJSON() // Returns date as string, formatted as JSON date\n",
    "toLocaleDateString() // Returns date portion of Date object as string, using locale conventions\n",
    "toLocaleTimeString() // Returns time portion of Date object as string, using locale conventions\n",
    "toLocaleString() // Converts Date object to string, using locale conventions\n",
    "toString() // Converts Date object to string\n",
    "toTimeString() // Converts time portion of Date object to string\n",
    "toUTCString() // Converts Date object to string, according to universal time\n",
    "UTC() // Returns number of milliseconds in date since midnight of January 1, 1970, according to UTC time\n",
    "valueOf() // Returns primitive value of Date object\n",
    "*/\n",
    "}"
   ],
   "outputs": [
    {
     "output_type": "stream",
     "name": "stdout",
     "text": [
      "20\n",
      "0\n",
      "2020\n",
      "3\n",
      "539\n",
      "26\n",
      "11\n",
      "37\n",
      "1608463597539\n",
      "480\n",
      "20\n",
      "0\n",
      "2020\n",
      "11\n",
      "539\n",
      "26\n",
      "11\n",
      "37\n",
      "1332313200000\n",
      "2020-12-12T11:26:37.539Z\n",
      "1929-12-12T11:26:37.539Z\n",
      "1929-12-12T11:26:37.539Z\n",
      "1929-12-12T11:30:31.324Z\n",
      "1929-12-12T13:02:31.324Z\n",
      "1929-03-12T13:02:31.324Z\n",
      "1929-03-12T13:02:42.324Z\n",
      "1970-04-26T17:46:40.000Z\n"
     ]
    }
   ],
   "metadata": {}
  },
  {
   "cell_type": "markdown",
   "source": [
    "### ```class``` and ```new``` Keywords\n"
   ],
   "metadata": {}
  },
  {
   "cell_type": "code",
   "execution_count": 63,
   "source": [
    "{\n",
    "// ```class``` and ```new``` Keywords\n",
    "class Auto {\n",
    "    constructor(make, model, year) {\n",
    "        this.make = make;\n",
    "        this.model = model;\n",
    "        this.year = year;\n",
    "    }\n",
    "    drive() {\n",
    "        console.log(\"Driving!\");\n",
    "  }\n",
    "}\n",
    "myAuto = new Auto(\"Rolls-Royce\", \"Phantom II\", 1929);\n",
    "console.log(myAuto);\n",
    "console.log(myAuto.make);\n",
    "console.log(myAuto.model);\n",
    "console.log(myAuto.year);\n",
    "myAuto.drive();\n",
    "}"
   ],
   "outputs": [
    {
     "output_type": "stream",
     "name": "stdout",
     "text": [
      "Auto { make: 'Rolls-Royce', model: 'Phantom II', year: 1929 }\n",
      "Rolls-Royce\n",
      "Phantom II\n",
      "1929\n",
      "Driving!\n"
     ]
    }
   ],
   "metadata": {}
  },
  {
   "cell_type": "markdown",
   "source": [
    "### Operators and Expressions\n",
    "\n",
    "See: https://developer.mozilla.org/en-US/docs/Web/JavaScript/Guide/Expressions_and_Operators\n",
    "\n",
    "- Assignment operators\n",
    "- Comparison operators\n",
    "- Arithmetic operators\n",
    "- Bitwise operators\n",
    "- Logical operators\n",
    "- String operators\n",
    "- Conditional (ternary) operator\n",
    "- Comma operator\n",
    "- Unary operators\n",
    "- Relational operators\n",
    "\n",
    "### Type Conversions\n",
    "\n",
    "See: https://www.programiz.com/javascript/type-conversion\n",
    "\n",
    "- Implicit conversion\n",
    "- Explicit conversion"
   ],
   "metadata": {}
  },
  {
   "cell_type": "markdown",
   "source": [
    "### Conditional Statements: ```if``` and ```else``` Keywords\n",
    "\n",
    "See: https://developer.mozilla.org/en-US/docs/Web/JavaScript/Reference/Statements/if...else"
   ],
   "metadata": {}
  },
  {
   "cell_type": "code",
   "execution_count": 64,
   "source": [
    "function flipCoin() {  \n",
    "    if (Math.random()>= 0.5) {\n",
    "        console.log('head');\n",
    "    } else {\n",
    "        console.log('tail');\n",
    "    }\n",
    "}\n",
    "flipCoin();\n",
    "flipCoin();\n",
    "flipCoin();\n",
    "flipCoin();\n",
    "flipCoin();\n",
    "flipCoin();\n",
    "flipCoin();\n",
    "flipCoin();\n",
    "flipCoin();\n",
    "flipCoin();"
   ],
   "outputs": [
    {
     "output_type": "stream",
     "name": "stdout",
     "text": [
      "tail\n",
      "tail\n",
      "head\n",
      "head\n",
      "tail\n",
      "tail\n",
      "tail\n",
      "tail\n",
      "tail\n",
      "tail\n"
     ]
    }
   ],
   "metadata": {}
  },
  {
   "cell_type": "markdown",
   "source": [
    "### ```?:``` Operator: Conditional Expressions\n",
    "\n",
    "See: https://developer.mozilla.org/en-US/docs/Web/JavaScript/Reference/Operators/Conditional_Operator"
   ],
   "metadata": {}
  },
  {
   "cell_type": "code",
   "execution_count": 65,
   "source": [
    "var age = 18;\n",
    "var canVote = (age >= 18) ? \"Yes\" : \"No\";\n",
    "console.log(canVote); // Yes"
   ],
   "outputs": [
    {
     "output_type": "stream",
     "name": "stdout",
     "text": [
      "Yes\n"
     ]
    }
   ],
   "metadata": {}
  },
  {
   "cell_type": "markdown",
   "source": [
    "### Loop Statements: ```while``` and ```for``` Keywords\n",
    "  \n"
   ],
   "metadata": {}
  },
  {
   "cell_type": "code",
   "execution_count": 66,
   "source": [
    "{\n",
    "function flipCoin() {  \n",
    "    if (Math.random()>= 0.5) {\n",
    "        console.log('head');\n",
    "    } else {\n",
    "        console.log('tail');\n",
    "    }\n",
    "}\n",
    "\n",
    "for (let i=0; i< 10; i++) {\n",
    "    flipCoin();\n",
    "}\n",
    "\n",
    "let i = 0\n",
    "while (i < 10) {\n",
    "    flipCoin();\n",
    "    i++;\n",
    "}\n",
    "}"
   ],
   "outputs": [
    {
     "output_type": "stream",
     "name": "stdout",
     "text": [
      "head\n",
      "tail\n",
      "head\n",
      "head\n",
      "head\n",
      "tail\n",
      "tail\n",
      "tail\n",
      "head\n",
      "head\n",
      "tail\n",
      "head\n",
      "head\n",
      "tail\n",
      "tail\n",
      "head\n",
      "tail\n",
      "head\n",
      "head\n",
      "tail\n"
     ]
    },
    {
     "output_type": "execute_result",
     "data": {
      "text/plain": [
       "9"
      ]
     },
     "metadata": {},
     "execution_count": 66
    }
   ],
   "metadata": {}
  },
  {
   "cell_type": "markdown",
   "source": [
    "### Switch Statements: ```switch``` Keyword\n",
    "\n",
    "See: https://developer.mozilla.org/en-US/docs/Web/JavaScript/Reference/Statements/switch"
   ],
   "metadata": {}
  },
  {
   "cell_type": "code",
   "execution_count": 67,
   "source": [
    "{\n",
    "function printPetSpecies(pet) {\n",
    "    switch (pet) {\n",
    "      case 'Dog':\n",
    "        console.log('The pet is canine');\n",
    "        break;\n",
    "        case 'Cat':\n",
    "        console.log('The pet is feline');\n",
    "        break;\n",
    "      case 'Budgie':\n",
    "      case 'Parrot':\n",
    "        console.log('The pet is avian');\n",
    "        break;\n",
    "      default:\n",
    "        console.log(`Do not know what ${pet} is`);\n",
    "    }\n",
    "}\n",
    "    \n",
    "printPetSpecies('Dog');\n",
    "printPetSpecies('Cat');\n",
    "printPetSpecies('Budgie');\n",
    "printPetSpecies('Parrot');\n",
    "printPetSpecies('Unicorn');\n",
    "}"
   ],
   "outputs": [
    {
     "output_type": "stream",
     "name": "stdout",
     "text": [
      "The pet is canine\n",
      "The pet is feline\n",
      "The pet is avian\n",
      "The pet is avian\n",
      "Do not know what Unicorn is\n"
     ]
    }
   ],
   "metadata": {}
  },
  {
   "cell_type": "markdown",
   "source": [
    "### Declared Functions, Function Expressions, and Arrow Functions\n",
    "\n",
    "See: https://developer.mozilla.org/en-US/docs/Web/JavaScript/Reference/Functions"
   ],
   "metadata": {}
  },
  {
   "cell_type": "code",
   "execution_count": 68,
   "source": [
    "{\n",
    "// declared function\n",
    "function addNumbers(x, y) {\n",
    "  return x + y;\n",
    "}\n",
    "console.log(addNumbers(3, 4));      // 7\n",
    "\n",
    "// function expression\n",
    "const multiplyNumbers = function(x, y) {\n",
    "  return x * y;\n",
    "}\n",
    "console.log(multiplyNumbers(3, 4)); // 12\n",
    "\n",
    "// arrow function\n",
    "const averageNumbers = (x, y) => (x + y)/2;\n",
    "console.log(averageNumbers(3, 4)); // 3.5\n",
    "}"
   ],
   "outputs": [
    {
     "output_type": "stream",
     "name": "stdout",
     "text": [
      "7\n",
      "12\n",
      "3.5\n"
     ]
    }
   ],
   "metadata": {}
  },
  {
   "cell_type": "code",
   "execution_count": 69,
   "source": [
    "{\n",
    "// arrow function passed as fuction object parameter to ```Array.prototype.map()``` method\n",
    "const innerPlanets = [ 'Mercury',  'Venus',  'Earthe',  'Mars' ];\n",
    "console.log(innerPlanets.map(planet => planet + \" has \" + planet.length + \" characters\"));\n",
    "}"
   ],
   "outputs": [
    {
     "output_type": "stream",
     "name": "stdout",
     "text": [
      "[ 'Mercury has 7 characters',\n",
      "  'Venus has 5 characters',\n",
      "  'Earthe has 6 characters',\n",
      "  'Mars has 4 characters' ]\n"
     ]
    }
   ],
   "metadata": {}
  },
  {
   "cell_type": "markdown",
   "source": [
    "### WeakMap\n",
    "\n",
    "- Hold \"weak\" references to key objects\n",
    "- Do not prevent garbage collection when there are be no other reference to the key object\n",
    "- Avoids preventing garbage collection of values in the map\n",
    "- Useful when mapping keys to information about the key that is only valuable if the key has not been garbage collected\n",
    "- See: https://developer.mozilla.org/en-US/docs/Web/JavaScript/Reference/Global_Objects/WeakMap"
   ],
   "metadata": {}
  },
  {
   "cell_type": "code",
   "execution_count": null,
   "source": [],
   "outputs": [],
   "metadata": {}
  },
  {
   "cell_type": "markdown",
   "source": [
    "### WeakSets\n",
    "\n",
    "- Collections of objects\n",
    "- Cannot contain arbitrary values of any type, as Sets can\n",
    "- References to objects in a WeakSet are held weakly\n",
    "- If no other references to an object stored in the WeakSet exist, those objects can be garbage collected\n",
    "- See: https://developer.mozilla.org/en-US/docs/Web/JavaScript/Reference/Global_Objects/WeakSet"
   ],
   "metadata": {}
  },
  {
   "cell_type": "markdown",
   "source": [
    "## Homework: JavaScript\n",
    "\n",
    "Experiment with the many learning resources available on the web, such as:\n",
    "\n",
    "- https://javascript.info\n",
    "- https://www.freecodecamp.org/learn\n",
    "- https://www.youtube.com/watch?v=t2CEgPsws3U\n",
    "- https://www.hackerrank.com\n",
    "- https://exercism.io\n",
    "- https://edabit.com/challenges"
   ],
   "metadata": {}
  },
  {
   "cell_type": "code",
   "execution_count": null,
   "source": [],
   "outputs": [],
   "metadata": {}
  }
 ],
 "metadata": {
  "kernelspec": {
   "display_name": "Javascript (Node.js)",
   "language": "javascript",
   "name": "javascript"
  },
  "language_info": {
   "file_extension": ".js",
   "mimetype": "application/javascript",
   "name": "javascript",
   "version": "10.13.0"
  }
 },
 "nbformat": 4,
 "nbformat_minor": 4
}