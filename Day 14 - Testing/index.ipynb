{
 "cells": [
  {
   "cell_type": "markdown",
   "source": [
    "# Testing: Quality Assurance\n",
    "\n",
    "The purpose of software testing is to ensure that software solution meets the following quality assurance requirements:\n",
    "\n",
    "- Achieves the general result its stakeholders desire (smoke testing and acceptance testing)\n",
    "- Meets all functional requirements that have been agreed upon for the project (system testing)\n",
    "- All component interfaces function according to design (integration testing)\n",
    "- Handles all data inputs correctly (unit testing)\n",
    "- Handles all data inputs securely (security testing and destructive testing)\n",
    "- Performs with acceptable response time (latency) and throughput (bandwidth): performance testing and scalability testing\n",
    "- Is sufficiently usable for all intended users (accessibility testing and usability testing)\n",
    "- Can be installed and run in its intended environments (installation testing and compatibility testing)\n",
    "- Ensure that code changes during development do not break existing functionality (regression testing)\n",
    "\n",
    "Some testing is done to learn about how users use and respond to your software solution:\n",
    "\n",
    "- Experimental pre-beta user feedback (alpha testing)\n",
    "- Feature complete preview user feedback (beta testing)\n",
    "- Incremental feature evolution to gather statistical analysis on user response (A/B testing)\n",
    "\n",
    "## Topics\n",
    "\n",
    "- Unit testing: https://en.wikipedia.org/wiki/Unit_testing\n",
    "- Integration testing: https://en.wikipedia.org/wiki/Integration_testing\n",
    "- System testing: https://www.guru99.com/system-testing.html\n",
    "- Acceptance testing: https://en.wikipedia.org/wiki/Acceptance_testing\n",
    "- Installation testing: https://en.wikipedia.org/wiki/Installation_testing\n",
    "- Compatibility testing: https://www.guru99.com/compatibility-testing.html\n",
    "- Performance testing: https://en.wikipedia.org/wiki/Software_performance_testing\n",
    "- Usability testing: https://en.wikipedia.org/wiki/Usability_testing\n",
    "- Accessibility testing: https://www.guru99.com/accessibility-testing.html\n",
    "- Security testing: https://www.veracode.com/security/owasp-top-10\n",
    "- Destructive testing: https://en.wikipedia.org/wiki/Smoke_testing_(software)\n",
    "- Smoke testing and sanity testing: \n",
    "- Regression testing: https://en.wikipedia.org/wiki/Regression_testing\n",
    "- Alpha testing and beta testing: https://www.guru99.com/alpha-beta-testing-demystified.html\n",
    "- A/B testing: https://en.wikipedia.org/wiki/A/B_testing\n",
    "- Black-box testing: https://en.wikipedia.org/wiki/Black-box_testing\n",
    "- White-box testing: https://en.wikipedia.org/wiki/White-box_testing\n",
    "- Chaos testing: https://en.wikipedia.org/wiki/Chaos_engineering\n",
    "- Edge cases testing: https://www.freecodecamp.org/news/a-beginners-guide-to-testing-implement-these-quick-checks-to-test-your-code-d50027ad5eed\n",
    "- fuzz testing: https://en.wikipedia.org/wiki/Fuzzing"
   ],
   "metadata": {}
  },
  {
   "cell_type": "markdown",
   "source": [
    "## Why is Testing Important?\n",
    "\n",
    "- **European space agency Ariane 5 Flight 501**: cost at least 8 million USD resulting from an attempt to store a 64-bit number int 16-bit register.\n",
    "- **NASA Mariner 1 Spacecraft**: in 1962 cost 18.5 million USD due to a typo in spacecraft source code.\n",
    "- **Morris Worm**: in 1988 cost 100 million USD, which was the first worm virus that crashed a large fraction of the internet.\n",
    "- **Patriot Missile Failure**: in 1991 during the Gulf War, failed to track and intercept an incoming Iraqi Scud missile. killing 28 and injuring around 100 soldiers.\n",
    "- Pentium FDIV bug in 1994, was a bug in the CPU floating point unit causing it to incorrectly divide some floating-point numbers.\n",
    "- **Y2K Bug**: leading up to 2000 resulted in the need to fix most mainframe applications, resulting in a cost of approximately 500 billion USD to businesses and governments around the world.\n",
    "- **NASA Mars Climate Orbiter**: in 1999 cost over $193 million USD due to incorrect calculations due to metric system vs British units used in flight control calculations.\n",
    "- **Heartbleed virus**: in 2014 was a bug in plain sight within the popular OpenSSL library of TLS protocol caused, resulting in RAM stack overflow that enabled an elevation of permission vulnerability.\n",
    "- **EDS British Child Support Agency support application**: in 2004 made payments to only one in eight single parents awaiting them.\n",
    "- **British passport agency application**: developed by Siemens in 1999 could not handle timely issuing of passports for 500,000 British citizens.\n",
    "- Many more... Try a Web search to see what others you can learn about..."
   ],
   "metadata": {}
  },
  {
   "cell_type": "markdown",
   "source": [
    "## What is Testing?\n",
    "\n",
    "- **Software Testing**: refers to methodologies for checking that software satisfies all expected requirements and to detect software defects and missing functionalities. Testing can be carried out using manual operations or with automated tools. Large projects rely mostly on automated testing tools.\n",
    "- **Functional testing**: refers to any testing that verifies that each software function operates correctly and in accordance with all functional requirements specifications.\n",
    "- **Non-functional testing**: refers to any type of testing that checks or measures any non-functional aspects of an application, such as performance, security, usability, reliability, compatibility, etc.\n",
    "- **Unit testing**: is software testing that focuses on individual units of source code functionality, that is verified in isolation. Most types of testing are performed by specialized testers rather than regular developers because developers are often too intimately involved with their own code to test it objectively and without bias. However, unit testing is typically always done by the individual programmer that implements the specific function that is being unit tested.\n",
    "- **Regression testing**: is the routine automated re-running of tests to verify that changes that have been made by developers have not broken any code that was previously working. Typically, this regression check is part of a daily routine, or even run as a continuous process, known as Continuous Integration, which may be triggered after each program build operation.\n",
    "- **White Box Testing**: is software testing that is performed on software where the source code is known and of interest to the tester.\n",
    "- **Black Box Testing**: is software testing that is performed on software where the source code is unknown or simply not of interest to the tester.\n",
    "- **End-to-end testing**: is used to check an entire software application to ensure that all of the code works together properly as a unified whole. This large-scale testing is in contrast with unit testing which focuses on testing of individual functional units within a larger code base. End-to-end testing ensures that all integrated pieces work together as expected. This is often important, because there may be bugs that can be missed in unit testing, that only manifest themselves in a holistic larger system that is more representative of how the code will likely work when running in production.\n",
    "- **TDD (test-driven development)**: is a software development process where the first step is to transform the software requirements directly into a complete set of unit test cases before any actual functional software implementation is developed. This enforces a more rigorous and formal approach to developing software in contrast to traditional software development where functionality is implemented first and then the unit test cases are developed later to check code functionality. TDD can help developers focus on gaining a deeper and earlier understanding of the code requirements before diving in to functional coding, which can simplify code and save time.\n",
    "- **BDD (behavior-driven development)**: is an Agile software development process that promotes collaboration among programmers, testers, users, managers, and other project stakeholders.\n",
    "- There are other types of testing, such as security testing, penetration testing, performance testing, acceptance testing, etc.\n"
   ],
   "metadata": {}
  },
  {
   "cell_type": "markdown",
   "source": [
    "## Lab\n",
    "\n",
    "- Read: https://en.wikipedia.org/wiki/Software_testing\n",
    "- Try the tutorial: How to Start Unit Testing Your JavaScript Code\n",
    "  - https://www.freecodecamp.org/news/how-to-start-unit-testing-javascript\n",
    "- Discuss in class:\n",
    " - Unit testing: https://www.datacamp.com/community/tutorials/unit-testing-python\n",
    " - White-box testing: https://www.guru99.com/white-box-testing.html\n",
    " - Black-box testing: https://www.geeksforgeeks.org/differences-between-black-box-testing-vs-white-box-testing\n",
    " - Integration testing: https://www.guru99.com/integration-testing.html\n",
    " - Performance testing: https://www.guru99.com/performance-testing.html\n",
    " - Regression testing: https://www.guru99.com/regression-testing.html\n",
    "\n",
    "## Homework\n",
    "\n",
    "Do at least one of the following unit testing tutorials:\n",
    "\n",
    "- JavaScript unit test tutorials:\n",
    " - Getting Started with Node.js and Mocha: https://semaphoreci.com/community/tutorials/getting-started-with-node-js-and-mocha\n",
    " - Unit Testing of Node.js Application: https://www.geeksforgeeks.org/unit-testing-of-node-js-application\n",
    " - How to Unit Test with NodeJS: https://medium.com/serverlessguru/how-to-unit-test-with-nodejs-76967019ba56\n",
    " - JavaScript Unit Testing for Beginners: https://designmodo.com/test-javascript-unit"
   ],
   "metadata": {}
  },
  {
   "cell_type": "code",
   "execution_count": null,
   "source": [],
   "outputs": [],
   "metadata": {}
  }
 ],
 "metadata": {
  "kernelspec": {
   "display_name": "Python 3",
   "language": "python",
   "name": "python3"
  },
  "language_info": {
   "codemirror_mode": {
    "name": "ipython",
    "version": 3
   },
   "file_extension": ".py",
   "mimetype": "text/x-python",
   "name": "python",
   "nbconvert_exporter": "python",
   "pygments_lexer": "ipython3",
   "version": "3.8.5"
  }
 },
 "nbformat": 4,
 "nbformat_minor": 4
}